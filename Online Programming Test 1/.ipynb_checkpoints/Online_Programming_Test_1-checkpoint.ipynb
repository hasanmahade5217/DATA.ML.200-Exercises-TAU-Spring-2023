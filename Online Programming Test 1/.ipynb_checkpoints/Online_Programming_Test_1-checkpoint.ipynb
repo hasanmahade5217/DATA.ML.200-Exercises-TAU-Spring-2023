{
 "cells": [
  {
   "cell_type": "code",
   "execution_count": 1,
   "id": "7c964a0e",
   "metadata": {},
   "outputs": [],
   "source": [
    "import numpy as np"
   ]
  },
  {
   "cell_type": "code",
   "execution_count": 2,
   "id": "3397dd9b",
   "metadata": {},
   "outputs": [],
   "source": [
    "base_path = \"E:/OneDrive - TUNI.fi/Tampere University (MSc in CS-DS)/Year 2/Period 4/DATA.ML.200 Pattern Recognition and Machine Learning/Online Programming Test 1/data/\""
   ]
  },
  {
   "cell_type": "code",
   "execution_count": 5,
   "id": "d545e6ed",
   "metadata": {},
   "outputs": [],
   "source": [
    "x_train = np.loadtxt(base_path+\"X_train.dat\")\n",
    "x_test= np.loadtxt(base_path+\"X_test.dat\")\n",
    "y_train= np.loadtxt(base_path+\"Y_train.dat\")\n",
    "y_test = np.loadtxt(base_path+\"Y_test.dat\")\n"
   ]
  },
  {
   "cell_type": "code",
   "execution_count": null,
   "id": "2158d877",
   "metadata": {},
   "outputs": [],
   "source": []
  }
 ],
 "metadata": {
  "kernelspec": {
   "display_name": "Python 3 (ipykernel)",
   "language": "python",
   "name": "python3"
  },
  "language_info": {
   "codemirror_mode": {
    "name": "ipython",
    "version": 3
   },
   "file_extension": ".py",
   "mimetype": "text/x-python",
   "name": "python",
   "nbconvert_exporter": "python",
   "pygments_lexer": "ipython3",
   "version": "3.8.8"
  }
 },
 "nbformat": 4,
 "nbformat_minor": 5
}
