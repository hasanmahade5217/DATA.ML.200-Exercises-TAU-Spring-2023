{
 "cells": [
  {
   "cell_type": "code",
   "execution_count": 1,
   "id": "3581b95b",
   "metadata": {},
   "outputs": [
    {
     "name": "stdout",
     "output_type": "stream",
     "text": [
      "2.12.0\n"
     ]
    }
   ],
   "source": [
    "# Importing necessary libraries\n",
    "\n",
    "# TensorFlow and tf.keras\n",
    "import tensorflow as tf\n",
    "\n",
    "# Helper libraries\n",
    "import numpy as np\n",
    "import matplotlib.pyplot as plt\n",
    "\n",
    "print(tf.__version__)"
   ]
  },
  {
   "cell_type": "code",
   "execution_count": 2,
   "id": "efade828",
   "metadata": {},
   "outputs": [],
   "source": [
    "# Data Set location in the local machine\n",
    "dataset_dir = 'E:/OneDrive - TUNI.fi/Tampere University (MSc in CS-DS)/Year 2/Period 4/DATA.ML.200 Pattern Recognition and Machine Learning/Exercise_2/Data/GTSRB_subset_2'"
   ]
  },
  {
   "cell_type": "code",
   "execution_count": 3,
   "id": "828d492b",
   "metadata": {},
   "outputs": [],
   "source": [
    "# Defining some properties for the image\n",
    "batch_size = 32\n",
    "img_height = 64\n",
    "img_width = 64"
   ]
  },
  {
   "cell_type": "markdown",
   "id": "aa3eb4e7",
   "metadata": {},
   "source": [
    "###  Split data into two parts - 80% for training and 20% for testing."
   ]
  },
  {
   "cell_type": "code",
   "execution_count": 5,
   "id": "3078b0e3",
   "metadata": {},
   "outputs": [
    {
     "name": "stdout",
     "output_type": "stream",
     "text": [
      "Found 660 files belonging to 2 classes.\n",
      "Using 528 files for training.\n"
     ]
    }
   ],
   "source": [
    "# Training Data\n",
    "train_ds = tf.keras.utils.image_dataset_from_directory(\n",
    "  dataset_dir,\n",
    "  validation_split=0.2,\n",
    "  subset=\"training\",\n",
    "  seed=123,\n",
    "  image_size=(img_height, img_width),\n",
    "  batch_size=batch_size, \n",
    "  label_mode='categorical')"
   ]
  },
  {
   "cell_type": "code",
   "execution_count": 7,
   "id": "b1b0821f",
   "metadata": {},
   "outputs": [
    {
     "name": "stdout",
     "output_type": "stream",
     "text": [
      "Found 660 files belonging to 2 classes.\n",
      "Using 132 files for validation.\n"
     ]
    }
   ],
   "source": [
    "## Testing Data\n",
    "test_ds = tf.keras.utils.image_dataset_from_directory(\n",
    "  dataset_dir,\n",
    "  validation_split=0.2,\n",
    "  subset=\"validation\",\n",
    "  seed=123,\n",
    "  image_size=(img_height, img_width),\n",
    "  batch_size=batch_size,\n",
    "  label_mode='categorical')"
   ]
  },
  {
   "cell_type": "code",
   "execution_count": 8,
   "id": "ed042dda",
   "metadata": {},
   "outputs": [
    {
     "name": "stdout",
     "output_type": "stream",
     "text": [
      "['class1', 'class2']\n"
     ]
    }
   ],
   "source": [
    "# Checking the class names \n",
    "class_names = train_ds.class_names\n",
    "print(class_names)"
   ]
  },
  {
   "cell_type": "code",
   "execution_count": 9,
   "id": "3f6f4356",
   "metadata": {},
   "outputs": [
    {
     "ename": "TypeError",
     "evalue": "only integer scalar arrays can be converted to a scalar index",
     "output_type": "error",
     "traceback": [
      "\u001b[1;31m---------------------------------------------------------------------------\u001b[0m",
      "\u001b[1;31mTypeError\u001b[0m                                 Traceback (most recent call last)",
      "\u001b[1;32m~\\AppData\\Local\\Temp\\ipykernel_17636\\1182860487.py\u001b[0m in \u001b[0;36m<module>\u001b[1;34m\u001b[0m\n\u001b[0;32m      5\u001b[0m         \u001b[0max\u001b[0m \u001b[1;33m=\u001b[0m \u001b[0mplt\u001b[0m\u001b[1;33m.\u001b[0m\u001b[0msubplot\u001b[0m\u001b[1;33m(\u001b[0m\u001b[1;36m3\u001b[0m\u001b[1;33m,\u001b[0m \u001b[1;36m3\u001b[0m\u001b[1;33m,\u001b[0m \u001b[0mi\u001b[0m \u001b[1;33m+\u001b[0m \u001b[1;36m1\u001b[0m\u001b[1;33m)\u001b[0m\u001b[1;33m\u001b[0m\u001b[1;33m\u001b[0m\u001b[0m\n\u001b[0;32m      6\u001b[0m         \u001b[0mplt\u001b[0m\u001b[1;33m.\u001b[0m\u001b[0mimshow\u001b[0m\u001b[1;33m(\u001b[0m\u001b[0mimages\u001b[0m\u001b[1;33m[\u001b[0m\u001b[0mi\u001b[0m\u001b[1;33m]\u001b[0m\u001b[1;33m.\u001b[0m\u001b[0mnumpy\u001b[0m\u001b[1;33m(\u001b[0m\u001b[1;33m)\u001b[0m\u001b[1;33m.\u001b[0m\u001b[0mastype\u001b[0m\u001b[1;33m(\u001b[0m\u001b[1;34m\"uint8\"\u001b[0m\u001b[1;33m)\u001b[0m\u001b[1;33m)\u001b[0m\u001b[1;33m\u001b[0m\u001b[1;33m\u001b[0m\u001b[0m\n\u001b[1;32m----> 7\u001b[1;33m         \u001b[0mplt\u001b[0m\u001b[1;33m.\u001b[0m\u001b[0mtitle\u001b[0m\u001b[1;33m(\u001b[0m\u001b[0mclass_names\u001b[0m\u001b[1;33m[\u001b[0m\u001b[0mlabels\u001b[0m\u001b[1;33m[\u001b[0m\u001b[0mi\u001b[0m\u001b[1;33m]\u001b[0m\u001b[1;33m]\u001b[0m\u001b[1;33m)\u001b[0m\u001b[1;33m\u001b[0m\u001b[1;33m\u001b[0m\u001b[0m\n\u001b[0m\u001b[0;32m      8\u001b[0m         \u001b[0mplt\u001b[0m\u001b[1;33m.\u001b[0m\u001b[0maxis\u001b[0m\u001b[1;33m(\u001b[0m\u001b[1;34m\"off\"\u001b[0m\u001b[1;33m)\u001b[0m\u001b[1;33m\u001b[0m\u001b[1;33m\u001b[0m\u001b[0m\n",
      "\u001b[1;32m~\\anaconda3\\envs\\DATAML200\\lib\\site-packages\\tensorflow\\python\\framework\\ops.py\u001b[0m in \u001b[0;36m__index__\u001b[1;34m(self)\u001b[0m\n\u001b[0;32m   1066\u001b[0m \u001b[1;33m\u001b[0m\u001b[0m\n\u001b[0;32m   1067\u001b[0m   \u001b[1;32mdef\u001b[0m \u001b[0m__index__\u001b[0m\u001b[1;33m(\u001b[0m\u001b[0mself\u001b[0m\u001b[1;33m)\u001b[0m\u001b[1;33m:\u001b[0m\u001b[1;33m\u001b[0m\u001b[1;33m\u001b[0m\u001b[0m\n\u001b[1;32m-> 1068\u001b[1;33m     \u001b[1;32mreturn\u001b[0m \u001b[0mself\u001b[0m\u001b[1;33m.\u001b[0m\u001b[0m_numpy\u001b[0m\u001b[1;33m(\u001b[0m\u001b[1;33m)\u001b[0m\u001b[1;33m.\u001b[0m\u001b[0m__index__\u001b[0m\u001b[1;33m(\u001b[0m\u001b[1;33m)\u001b[0m\u001b[1;33m\u001b[0m\u001b[1;33m\u001b[0m\u001b[0m\n\u001b[0m\u001b[0;32m   1069\u001b[0m \u001b[1;33m\u001b[0m\u001b[0m\n\u001b[0;32m   1070\u001b[0m   \u001b[1;32mdef\u001b[0m \u001b[0m__bool__\u001b[0m\u001b[1;33m(\u001b[0m\u001b[0mself\u001b[0m\u001b[1;33m)\u001b[0m\u001b[1;33m:\u001b[0m\u001b[1;33m\u001b[0m\u001b[1;33m\u001b[0m\u001b[0m\n",
      "\u001b[1;31mTypeError\u001b[0m: only integer scalar arrays can be converted to a scalar index"
     ]
    },
    {
     "data": {
      "image/png": "[encoded data removed]",
      "text/plain": [
       "<Figure size 1000x1000 with 1 Axes>"
      ]
     },
     "metadata": {},
     "output_type": "display_data"
    }
   ],
   "source": [
    "# Visualization\n",
    "plt.figure(figsize=(10, 10))\n",
    "for images, labels in train_ds.take(1):\n",
    "    for i in range(9):\n",
    "        ax = plt.subplot(3, 3, i + 1)\n",
    "        plt.imshow(images[i].numpy().astype(\"uint8\"))\n",
    "        plt.title(class_names[labels[i]])\n",
    "        plt.axis(\"off\")"
   ]
  },
  {
   "cell_type": "code",
   "execution_count": null,
   "id": "eb653be2",
   "metadata": {},
   "outputs": [],
   "source": [
    "# Checking image properties\n",
    "for image_batch, labels_batch in train_ds:\n",
    "    print(image_batch.shape)\n",
    "    print(labels_batch.shape)\n",
    "    break"
   ]
  },
  {
   "cell_type": "markdown",
   "id": "d0d82d76",
   "metadata": {},
   "source": [
    "#### Normalizing"
   ]
  },
  {
   "cell_type": "code",
   "execution_count": 11,
   "id": "21e64311",
   "metadata": {},
   "outputs": [],
   "source": [
    "normalization_layer = tf.keras.layers.Rescaling(1./255)"
   ]
  },
  {
   "cell_type": "code",
   "execution_count": 12,
   "id": "047b3115",
   "metadata": {},
   "outputs": [
    {
     "name": "stdout",
     "output_type": "stream",
     "text": [
      "0.03137255 0.5529412\n"
     ]
    }
   ],
   "source": [
    "# Normalizing training dataset\n",
    "normalized_train_ds = train_ds.map(lambda x, y: (normalization_layer(x), y))\n",
    "train_image_batch, train_labels_batch = next(iter(normalized_train_ds))\n",
    "first_image = train_image_batch[0]\n",
    "\n",
    "# Notice the pixel values are now in `[0,1]`.\n",
    "print(np.min(first_image), np.max(first_image))"
   ]
  },
  {
   "cell_type": "code",
   "execution_count": 13,
   "id": "974e59d7",
   "metadata": {},
   "outputs": [
    {
     "name": "stdout",
     "output_type": "stream",
     "text": [
      "0.027450982 0.7490196\n"
     ]
    }
   ],
   "source": [
    "# # Normalizing test dataset\n",
    "normalized_test_ds = test_ds.map(lambda x, y: (normalization_layer(x), y))\n",
    "test_image_batch, test_labels_batch = next(iter(normalized_test_ds))\n",
    "first_image = test_image_batch[0]\n",
    "\n",
    "# Notice the pixel values are now in `[0,1]`.\n",
    "print(np.min(first_image), np.max(first_image))"
   ]
  },
  {
   "cell_type": "markdown",
   "id": "cb3e96de",
   "metadata": {},
   "source": [
    "#### Model 1"
   ]
  },
  {
   "cell_type": "code",
   "execution_count": 12,
   "id": "4f706efe",
   "metadata": {
    "scrolled": true
   },
   "outputs": [
    {
     "name": "stdout",
     "output_type": "stream",
     "text": [
      "(None, 12288)\n",
      "Model: \"sequential\"\n",
      "_________________________________________________________________\n",
      " Layer (type)                Output Shape              Param #   \n",
      "=================================================================\n",
      " flatten (Flatten)           (None, 12288)             0         \n",
      "                                                                 \n",
      " dense (Dense)               (None, 10)                122890    \n",
      "                                                                 \n",
      " dense_1 (Dense)             (None, 10)                110       \n",
      "                                                                 \n",
      " dense_2 (Dense)             (None, 2)                 22        \n",
      "                                                                 \n",
      "=================================================================\n",
      "Total params: 123,022\n",
      "Trainable params: 123,022\n",
      "Non-trainable params: 0\n",
      "_________________________________________________________________\n",
      "None\n"
     ]
    }
   ],
   "source": [
    "# Simple Sequential structure\n",
    "model = tf.keras.models.Sequential()\n",
    "\n",
    "# Flatten 2D input image to a 1D vector\n",
    "model.add(tf.keras.layers.Flatten(input_shape=(64,64,3)))\n",
    "print(model.output_shape)\n",
    "\n",
    "# Add 1st full connected layer (hidden layer in MLP terminology)\n",
    "model.add(tf.keras.layers.Dense(10,activation='sigmoid'))\n",
    "\n",
    "# Add 2nd full connected layer (hidden layer in MLP terminology)\n",
    "model.add(tf.keras.layers.Dense(10,activation='sigmoid'))\n",
    "\n",
    "# Add the output layer of 2 full-connected neurons (As output only has 2 class)\n",
    "model.add(tf.keras.layers.Dense(2,activation='sigmoid'))\n",
    "\n",
    "print(model.summary())"
   ]
  },
  {
   "cell_type": "code",
   "execution_count": 13,
   "id": "c8819811",
   "metadata": {},
   "outputs": [],
   "source": [
    "model.compile(optimizer='SGD',\n",
    "              loss=tf.keras.losses.SparseCategoricalCrossentropy(from_logits=True),\n",
    "              metrics=['accuracy'])"
   ]
  },
  {
   "cell_type": "code",
   "execution_count": 14,
   "id": "9deaa62a",
   "metadata": {
    "scrolled": false
   },
   "outputs": [
    {
     "name": "stdout",
     "output_type": "stream",
     "text": [
      "Epoch 1/10\n"
     ]
    },
    {
     "name": "stderr",
     "output_type": "stream",
     "text": [
      "C:\\Users\\mahad\\anaconda3\\envs\\DATAML200\\lib\\site-packages\\keras\\backend.py:5612: UserWarning: \"`sparse_categorical_crossentropy` received `from_logits=True`, but the `output` argument was produced by a Softmax activation and thus does not represent logits. Was this intended?\n",
      "  output, from_logits = _get_logits(\n"
     ]
    },
    {
     "name": "stdout",
     "output_type": "stream",
     "text": [
      "17/17 [==============================] - 1s 13ms/step - loss: 0.6021 - accuracy: 0.6780\n",
      "Epoch 2/10\n",
      "17/17 [==============================] - 0s 15ms/step - loss: 0.5838 - accuracy: 0.6780\n",
      "Epoch 3/10\n",
      "17/17 [==============================] - 0s 14ms/step - loss: 0.5698 - accuracy: 0.6780\n",
      "Epoch 4/10\n",
      "17/17 [==============================] - 0s 17ms/step - loss: 0.5542 - accuracy: 0.6780\n",
      "Epoch 5/10\n",
      "17/17 [==============================] - 0s 16ms/step - loss: 0.5391 - accuracy: 0.6780\n",
      "Epoch 6/10\n",
      "17/17 [==============================] - 0s 16ms/step - loss: 0.5256 - accuracy: 0.6780\n",
      "Epoch 7/10\n",
      "17/17 [==============================] - 0s 16ms/step - loss: 0.5133 - accuracy: 0.6780\n",
      "Epoch 8/10\n",
      "17/17 [==============================] - 0s 16ms/step - loss: 0.5016 - accuracy: 0.6780\n",
      "Epoch 9/10\n",
      "17/17 [==============================] - 0s 16ms/step - loss: 0.4911 - accuracy: 0.6780\n",
      "Epoch 10/10\n",
      "17/17 [==============================] - 0s 18ms/step - loss: 0.4808 - accuracy: 0.6780\n"
     ]
    }
   ],
   "source": [
    "history = model.fit(normalized_train_ds,\n",
    "                    epochs=10)"
   ]
  },
  {
   "cell_type": "code",
   "execution_count": 15,
   "id": "eb4b0f3f",
   "metadata": {},
   "outputs": [
    {
     "data": {
      "text/plain": [
       "[<matplotlib.lines.Line2D at 0x26867f3b310>]"
      ]
     },
     "execution_count": 15,
     "metadata": {},
     "output_type": "execute_result"
    },
    {
     "data": {
      "image/png": "[encoded data removed]",
      "text/plain": [
       "<Figure size 640x480 with 1 Axes>"
      ]
     },
     "metadata": {},
     "output_type": "display_data"
    }
   ],
   "source": [
    "plt.plot(history.history['loss'])"
   ]
  },
  {
   "cell_type": "code",
   "execution_count": 16,
   "id": "30dcff06",
   "metadata": {},
   "outputs": [
    {
     "name": "stdout",
     "output_type": "stream",
     "text": [
      "5/5 [==============================] - 1s 8ms/step - loss: 0.4663 - accuracy: 0.6970\n",
      "Test loss, Test accuracy :  [0.46630045771598816, 0.6969696879386902]\n"
     ]
    }
   ],
   "source": [
    "result = model.evaluate(normalized_test_ds)\n",
    "print(\"Test loss, Test accuracy : \", result)"
   ]
  },
  {
   "cell_type": "markdown",
   "id": "595ac8d2",
   "metadata": {},
   "source": [
    "#### Model 2"
   ]
  },
  {
   "cell_type": "code",
   "execution_count": 17,
   "id": "7275ab06",
   "metadata": {},
   "outputs": [
    {
     "name": "stdout",
     "output_type": "stream",
     "text": [
      "(None, 12288)\n",
      "Model: \"sequential_1\"\n",
      "_________________________________________________________________\n",
      " Layer (type)                Output Shape              Param #   \n",
      "=================================================================\n",
      " flatten_1 (Flatten)         (None, 12288)             0         \n",
      "                                                                 \n",
      " dense_3 (Dense)             (None, 100)               1228900   \n",
      "                                                                 \n",
      " dense_4 (Dense)             (None, 100)               10100     \n",
      "                                                                 \n",
      " dense_5 (Dense)             (None, 2)                 202       \n",
      "                                                                 \n",
      "=================================================================\n",
      "Total params: 1,239,202\n",
      "Trainable params: 1,239,202\n",
      "Non-trainable params: 0\n",
      "_________________________________________________________________\n",
      "None\n"
     ]
    }
   ],
   "source": [
    "# Simple Sequential structure\n",
    "model = tf.keras.models.Sequential()\n",
    "\n",
    "# Flatten 2D input image to a 1D vector\n",
    "model.add(tf.keras.layers.Flatten(input_shape=(64,64,3)))\n",
    "print(model.output_shape)\n",
    "\n",
    "# Add 1st full connected layer (hidden layer in MLP terminology)\n",
    "model.add(tf.keras.layers.Dense(100,activation='sigmoid'))\n",
    "\n",
    "# Add 2nd full connected layer (hidden layer in MLP terminology)\n",
    "model.add(tf.keras.layers.Dense(100,activation='sigmoid'))\n",
    "\n",
    "# Add the output layer of 2 full-connected neurons (As output only has 2 class)\n",
    "model.add(tf.keras.layers.Dense(2,activation='sigmoid'))\n",
    "\n",
    "print(model.summary())"
   ]
  },
  {
   "cell_type": "code",
   "execution_count": 18,
   "id": "43ba6146",
   "metadata": {},
   "outputs": [],
   "source": [
    "model.compile(optimizer='SGD',\n",
    "              loss=tf.keras.losses.SparseCategoricalCrossentropy(from_logits=True),\n",
    "              metrics=['accuracy'])"
   ]
  },
  {
   "cell_type": "code",
   "execution_count": 19,
   "id": "b551d1c1",
   "metadata": {},
   "outputs": [
    {
     "name": "stdout",
     "output_type": "stream",
     "text": [
      "Epoch 1/10\n",
      "17/17 [==============================] - 3s 37ms/step - loss: 0.6233 - accuracy: 0.6780\n",
      "Epoch 2/10\n",
      "17/17 [==============================] - 1s 33ms/step - loss: 0.5766 - accuracy: 0.6780\n",
      "Epoch 3/10\n",
      "17/17 [==============================] - 1s 30ms/step - loss: 0.5446 - accuracy: 0.6837\n",
      "Epoch 4/10\n",
      "17/17 [==============================] - 1s 35ms/step - loss: 0.5178 - accuracy: 0.7064\n",
      "Epoch 5/10\n",
      "17/17 [==============================] - 1s 37ms/step - loss: 0.4961 - accuracy: 0.6989\n",
      "Epoch 6/10\n",
      "17/17 [==============================] - 1s 40ms/step - loss: 0.4778 - accuracy: 0.7348\n",
      "Epoch 7/10\n",
      "17/17 [==============================] - 1s 30ms/step - loss: 0.4624 - accuracy: 0.7746\n",
      "Epoch 8/10\n",
      "17/17 [==============================] - 1s 31ms/step - loss: 0.4424 - accuracy: 0.7784\n",
      "Epoch 9/10\n",
      "17/17 [==============================] - 1s 38ms/step - loss: 0.4254 - accuracy: 0.8277\n",
      "Epoch 10/10\n",
      "17/17 [==============================] - 1s 28ms/step - loss: 0.4067 - accuracy: 0.8504\n"
     ]
    }
   ],
   "source": [
    "history = model.fit(normalized_train_ds,\n",
    "                    epochs=10)"
   ]
  },
  {
   "cell_type": "code",
   "execution_count": 20,
   "id": "46e75713",
   "metadata": {},
   "outputs": [
    {
     "data": {
      "text/plain": [
       "[<matplotlib.lines.Line2D at 0x2686957b790>]"
      ]
     },
     "execution_count": 20,
     "metadata": {},
     "output_type": "execute_result"
    },
    {
     "data": {
      "image/png": "[encoded data removed]",
      "text/plain": [
       "<Figure size 640x480 with 1 Axes>"
      ]
     },
     "metadata": {},
     "output_type": "display_data"
    }
   ],
   "source": [
    "plt.plot(history.history['loss'])"
   ]
  },
  {
   "cell_type": "code",
   "execution_count": 21,
   "id": "b324a25d",
   "metadata": {},
   "outputs": [
    {
     "name": "stdout",
     "output_type": "stream",
     "text": [
      "5/5 [==============================] - 0s 9ms/step - loss: 0.3878 - accuracy: 0.8864\n",
      "Test loss, Test accuracy :  [0.3878293037414551, 0.8863636255264282]\n"
     ]
    }
   ],
   "source": [
    "result = model.evaluate(normalized_test_ds)\n",
    "print(\"Test loss, Test accuracy : \", result)"
   ]
  },
  {
   "cell_type": "markdown",
   "id": "fae1f7f5",
   "metadata": {},
   "source": [
    "##### After increasing the neurons in the hidden layer it improves the accuracy"
   ]
  },
  {
   "cell_type": "code",
   "execution_count": null,
   "id": "cd7a3668",
   "metadata": {},
   "outputs": [],
   "source": []
  }
 ],
 "metadata": {
  "kernelspec": {
   "display_name": "DATAML200",
   "language": "python",
   "name": "dataml200"
  },
  "language_info": {
   "codemirror_mode": {
    "name": "ipython",
    "version": 3
   },
   "file_extension": ".py",
   "mimetype": "text/x-python",
   "name": "python",
   "nbconvert_exporter": "python",
   "pygments_lexer": "ipython3",
   "version": "3.9.13"
  }
 },
 "nbformat": 4,
 "nbformat_minor": 5
}
