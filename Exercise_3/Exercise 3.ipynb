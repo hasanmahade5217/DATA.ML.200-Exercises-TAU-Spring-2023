{
 "cells": [
  {
   "cell_type": "code",
   "execution_count": 1,
   "id": "70206303",
   "metadata": {},
   "outputs": [
    {
     "name": "stdout",
     "output_type": "stream",
     "text": [
      "2.12.0\n"
     ]
    }
   ],
   "source": [
    "# Importing necessary libraries\n",
    "\n",
    "# TensorFlow and tf.keras\n",
    "import tensorflow as tf\n",
    "\n",
    "# Helper libraries\n",
    "import numpy as np\n",
    "import matplotlib.pyplot as plt\n",
    "\n",
    "print(tf.__version__)"
   ]
  },
  {
   "cell_type": "code",
   "execution_count": 2,
   "id": "403bce0d",
   "metadata": {},
   "outputs": [],
   "source": [
    "# Data Set location in the local machine\n",
    "dataset_dir = 'E:/OneDrive - TUNI.fi/Tampere University (MSc in CS-DS)/Year 2/Period 4/DATA.ML.200 Pattern Recognition and Machine Learning/Exercise_3/Data/GTSRB_subset_2'"
   ]
  },
  {
   "cell_type": "code",
   "execution_count": 3,
   "id": "55a74ca3",
   "metadata": {},
   "outputs": [],
   "source": [
    "# Defining some properties for the image\n",
    "batch_size = 32\n",
    "img_height = 64\n",
    "img_width = 64"
   ]
  },
  {
   "cell_type": "markdown",
   "id": "8f9f5e29",
   "metadata": {},
   "source": [
    "### Split data into two parts - 80% for training and 20% for testing.¶"
   ]
  },
  {
   "cell_type": "code",
   "execution_count": 4,
   "id": "16540909",
   "metadata": {},
   "outputs": [
    {
     "name": "stdout",
     "output_type": "stream",
     "text": [
      "Found 660 files belonging to 2 classes.\n",
      "Using 528 files for training.\n"
     ]
    }
   ],
   "source": [
    "# Training Data\n",
    "train_ds = tf.keras.utils.image_dataset_from_directory(\n",
    "  dataset_dir,\n",
    "  validation_split=0.2,\n",
    "  subset=\"training\",\n",
    "  seed=123,\n",
    "  image_size=(img_height, img_width),\n",
    "  batch_size=batch_size,\n",
    "  label_mode=\"categorical\")"
   ]
  },
  {
   "cell_type": "code",
   "execution_count": 5,
   "id": "38b620b7",
   "metadata": {},
   "outputs": [
    {
     "name": "stdout",
     "output_type": "stream",
     "text": [
      "Found 660 files belonging to 2 classes.\n",
      "Using 132 files for validation.\n"
     ]
    }
   ],
   "source": [
    "## Testing Data\n",
    "test_ds = tf.keras.utils.image_dataset_from_directory(\n",
    "  dataset_dir,\n",
    "  validation_split=0.2,\n",
    "  subset=\"validation\",\n",
    "  seed=123,\n",
    "  image_size=(img_height, img_width),\n",
    "  batch_size=batch_size,\n",
    "  label_mode=\"categorical\")"
   ]
  },
  {
   "cell_type": "code",
   "execution_count": 6,
   "id": "fa5065f3",
   "metadata": {},
   "outputs": [
    {
     "name": "stdout",
     "output_type": "stream",
     "text": [
      "['class1', 'class2']\n"
     ]
    }
   ],
   "source": [
    "# Checking the class names \n",
    "class_names = train_ds.class_names\n",
    "print(class_names)"
   ]
  },
  {
   "cell_type": "code",
   "execution_count": 7,
   "id": "2da5eab4",
   "metadata": {},
   "outputs": [
    {
     "name": "stdout",
     "output_type": "stream",
     "text": [
      "(32, 64, 64, 3)\n",
      "(32, 2)\n"
     ]
    }
   ],
   "source": [
    "# Checking image properties\n",
    "for image_batch, labels_batch in train_ds:\n",
    "    print(image_batch.shape)\n",
    "    print(labels_batch.shape)\n",
    "    break"
   ]
  },
  {
   "cell_type": "code",
   "execution_count": 8,
   "id": "07bfcd80",
   "metadata": {},
   "outputs": [],
   "source": [
    "normalization_layer = tf.keras.layers.Rescaling(1./255)"
   ]
  },
  {
   "cell_type": "code",
   "execution_count": 9,
   "id": "4076c757",
   "metadata": {},
   "outputs": [
    {
     "name": "stdout",
     "output_type": "stream",
     "text": [
      "0.03137255 0.5529412\n"
     ]
    }
   ],
   "source": [
    "# Normalizing training dataset\n",
    "normalized_train_ds = train_ds.map(lambda x, y: (normalization_layer(x), y))\n",
    "train_image_batch, train_labels_batch = next(iter(normalized_train_ds))\n",
    "first_image = train_image_batch[0]\n",
    "\n",
    "# Notice the pixel values are now in `[0,1]`.\n",
    "print(np.min(first_image), np.max(first_image))"
   ]
  },
  {
   "cell_type": "code",
   "execution_count": 10,
   "id": "4465d48c",
   "metadata": {},
   "outputs": [
    {
     "name": "stdout",
     "output_type": "stream",
     "text": [
      "0.027450982 0.7490196\n"
     ]
    }
   ],
   "source": [
    "# # Normalizing test dataset\n",
    "normalized_test_ds = test_ds.map(lambda x, y: (normalization_layer(x), y))\n",
    "test_image_batch, test_labels_batch = next(iter(normalized_test_ds))\n",
    "first_image = test_image_batch[0]\n",
    "\n",
    "# Notice the pixel values are now in `[0,1]`.\n",
    "print(np.min(first_image), np.max(first_image))"
   ]
  },
  {
   "cell_type": "markdown",
   "id": "025d9752",
   "metadata": {},
   "source": [
    "### Model:"
   ]
  },
  {
   "cell_type": "code",
   "execution_count": 11,
   "id": "8a7d4382",
   "metadata": {},
   "outputs": [],
   "source": [
    "# declare input shape \n",
    "input = tf.keras.Input(shape=(64,64,3))\n",
    "\n",
    "# Block 1 (convolution)\n",
    "conv1 = tf.keras.layers.Conv2D(10, 3, strides=2, activation=\"relu\")(input)\n",
    "\n",
    "\n",
    "# Maxpooling 1\n",
    "max_p1 = tf.keras.layers.MaxPooling2D(2)(conv1)\n",
    "\n",
    "# Block 2 (convolution)\n",
    "conv2 = tf.keras.layers.Conv2D(10, 3, strides=2, activation=\"relu\")(max_p1)\n",
    "\n",
    "# Maxpooling 2\n",
    "max_p2 = tf.keras.layers.MaxPooling2D(2)(conv2)\n",
    "\n",
    "# Block 3 (full connected)\n",
    "fc = tf.keras.layers.Flatten()(max_p2)\n",
    "\n",
    "# Finally, we add a classification layer.\n",
    "output = tf.keras.layers.Dense(2, activation=\"sigmoid\")(fc)\n",
    "\n",
    "# bind all\n",
    "cnn_model = tf.keras.Model(input, output)\n",
    "\n"
   ]
  },
  {
   "cell_type": "code",
   "execution_count": 12,
   "id": "f269d553",
   "metadata": {},
   "outputs": [
    {
     "name": "stdout",
     "output_type": "stream",
     "text": [
      "Model: \"model\"\n",
      "_________________________________________________________________\n",
      " Layer (type)                Output Shape              Param #   \n",
      "=================================================================\n",
      " input_1 (InputLayer)        [(None, 64, 64, 3)]       0         \n",
      "                                                                 \n",
      " conv2d (Conv2D)             (None, 31, 31, 10)        280       \n",
      "                                                                 \n",
      " max_pooling2d (MaxPooling2D  (None, 15, 15, 10)       0         \n",
      " )                                                               \n",
      "                                                                 \n",
      " conv2d_1 (Conv2D)           (None, 7, 7, 10)          910       \n",
      "                                                                 \n",
      " max_pooling2d_1 (MaxPooling  (None, 3, 3, 10)         0         \n",
      " 2D)                                                             \n",
      "                                                                 \n",
      " flatten (Flatten)           (None, 90)                0         \n",
      "                                                                 \n",
      " dense (Dense)               (None, 2)                 182       \n",
      "                                                                 \n",
      "=================================================================\n",
      "Total params: 1,372\n",
      "Trainable params: 1,372\n",
      "Non-trainable params: 0\n",
      "_________________________________________________________________\n"
     ]
    }
   ],
   "source": [
    "# This loss takes care of one-hot encoding (see https://keras.io/api/losses/)\n",
    "loss_fn = tf.keras.losses.BinaryCrossentropy(from_logits=True)\n",
    "\n",
    "cnn_model.compile(loss=loss_fn, optimizer=\"SGD\", metrics=[\"accuracy\"])\n",
    "cnn_model.summary()"
   ]
  },
  {
   "cell_type": "code",
   "execution_count": 13,
   "id": "32418970",
   "metadata": {
    "scrolled": false
   },
   "outputs": [
    {
     "name": "stdout",
     "output_type": "stream",
     "text": [
      "Epoch 1/20\n"
     ]
    },
    {
     "name": "stderr",
     "output_type": "stream",
     "text": [
      "C:\\Users\\mahad\\anaconda3\\envs\\DATAML200\\lib\\site-packages\\keras\\backend.py:5703: UserWarning: \"`binary_crossentropy` received `from_logits=True`, but the `output` argument was produced by a Sigmoid activation and thus does not represent logits. Was this intended?\n",
      "  output, from_logits = _get_logits(\n"
     ]
    },
    {
     "name": "stdout",
     "output_type": "stream",
     "text": [
      "17/17 [==============================] - 2s 23ms/step - loss: 0.6893 - accuracy: 0.5284\n",
      "Epoch 2/20\n",
      "17/17 [==============================] - 1s 25ms/step - loss: 0.6725 - accuracy: 0.7386\n",
      "Epoch 3/20\n",
      "17/17 [==============================] - 1s 24ms/step - loss: 0.6624 - accuracy: 0.7027\n",
      "Epoch 4/20\n",
      "17/17 [==============================] - 1s 26ms/step - loss: 0.6531 - accuracy: 0.6970\n",
      "Epoch 5/20\n",
      "17/17 [==============================] - 1s 26ms/step - loss: 0.6447 - accuracy: 0.6780\n",
      "Epoch 6/20\n",
      "17/17 [==============================] - 1s 24ms/step - loss: 0.6370 - accuracy: 0.6780\n",
      "Epoch 7/20\n",
      "17/17 [==============================] - 1s 23ms/step - loss: 0.6292 - accuracy: 0.6818\n",
      "Epoch 8/20\n",
      "17/17 [==============================] - 1s 24ms/step - loss: 0.6211 - accuracy: 0.6818\n",
      "Epoch 9/20\n",
      "17/17 [==============================] - 1s 25ms/step - loss: 0.6119 - accuracy: 0.6799\n",
      "Epoch 10/20\n",
      "17/17 [==============================] - 1s 24ms/step - loss: 0.6024 - accuracy: 0.7008\n",
      "Epoch 11/20\n",
      "17/17 [==============================] - 1s 26ms/step - loss: 0.5920 - accuracy: 0.7348\n",
      "Epoch 12/20\n",
      "17/17 [==============================] - 1s 24ms/step - loss: 0.5808 - accuracy: 0.7746\n",
      "Epoch 13/20\n",
      "17/17 [==============================] - 1s 23ms/step - loss: 0.5692 - accuracy: 0.7955\n",
      "Epoch 14/20\n",
      "17/17 [==============================] - 1s 30ms/step - loss: 0.5578 - accuracy: 0.7973\n",
      "Epoch 15/20\n",
      "17/17 [==============================] - 1s 25ms/step - loss: 0.5452 - accuracy: 0.7973\n",
      "Epoch 16/20\n",
      "17/17 [==============================] - 1s 24ms/step - loss: 0.5311 - accuracy: 0.8011\n",
      "Epoch 17/20\n",
      "17/17 [==============================] - 1s 25ms/step - loss: 0.5165 - accuracy: 0.8030\n",
      "Epoch 18/20\n",
      "17/17 [==============================] - 1s 31ms/step - loss: 0.5025 - accuracy: 0.7955\n",
      "Epoch 19/20\n",
      "17/17 [==============================] - 1s 27ms/step - loss: 0.4904 - accuracy: 0.7955\n",
      "Epoch 20/20\n",
      "17/17 [==============================] - 1s 40ms/step - loss: 0.4725 - accuracy: 0.8163\n"
     ]
    }
   ],
   "source": [
    "history = cnn_model.fit(normalized_train_ds, epochs=20)"
   ]
  },
  {
   "cell_type": "code",
   "execution_count": 14,
   "id": "b3a52efe",
   "metadata": {},
   "outputs": [
    {
     "data": {
      "text/plain": [
       "[<matplotlib.lines.Line2D at 0x1f762c0e1c0>]"
      ]
     },
     "execution_count": 14,
     "metadata": {},
     "output_type": "execute_result"
    },
    {
     "data": {
      "image/png": "[encoded data removed]",
      "text/plain": [
       "<Figure size 640x480 with 1 Axes>"
      ]
     },
     "metadata": {},
     "output_type": "display_data"
    }
   ],
   "source": [
    "plt.plot(history.history['loss'])"
   ]
  },
  {
   "cell_type": "code",
   "execution_count": 15,
   "id": "0a6d6251",
   "metadata": {},
   "outputs": [
    {
     "name": "stdout",
     "output_type": "stream",
     "text": [
      "5/5 [==============================] - 0s 8ms/step - loss: 0.4648 - accuracy: 0.8258\n",
      "Test loss, Test accuracy :  [0.4648452401161194, 0.8257575631141663]\n"
     ]
    }
   ],
   "source": [
    "result = cnn_model.evaluate(normalized_test_ds)\n",
    "print(\"Test loss, Test accuracy : \", result)"
   ]
  }
 ],
 "metadata": {
  "kernelspec": {
   "display_name": "DATAML200",
   "language": "python",
   "name": "dataml200"
  },
  "language_info": {
   "codemirror_mode": {
    "name": "ipython",
    "version": 3
   },
   "file_extension": ".py",
   "mimetype": "text/x-python",
   "name": "python",
   "nbconvert_exporter": "python",
   "pygments_lexer": "ipython3",
   "version": "3.9.13"
  }
 },
 "nbformat": 4,
 "nbformat_minor": 5
}
