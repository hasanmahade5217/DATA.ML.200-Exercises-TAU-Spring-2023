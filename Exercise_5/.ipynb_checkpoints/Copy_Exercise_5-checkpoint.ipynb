{
 "cells": [
  {
   "cell_type": "code",
   "execution_count": 1,
   "id": "6895af51",
   "metadata": {},
   "outputs": [
    {
     "name": "stdout",
     "output_type": "stream",
     "text": [
      "TensorFlow version: 2.12.0\n"
     ]
    }
   ],
   "source": [
    "# import necessary libraries\n",
    "import gym\n",
    "import time\n",
    "import numpy as np\n",
    "import matplotlib.pyplot as plt\n",
    "import tensorflow as tf\n",
    "print(\"TensorFlow version:\", tf.__version__)"
   ]
  },
  {
   "cell_type": "code",
   "execution_count": 2,
   "id": "d67cb649",
   "metadata": {},
   "outputs": [
    {
     "name": "stdout",
     "output_type": "stream",
     "text": [
      "+---------+\n",
      "|R: | : :G|\n",
      "| : | : : |\n",
      "| : : : :\u001b[43m \u001b[0m|\n",
      "| | : | : |\n",
      "|\u001b[35mY\u001b[0m| : |\u001b[34;1mB\u001b[0m: |\n",
      "+---------+\n",
      "\n"
     ]
    }
   ],
   "source": [
    "# Create environment\n",
    "env = gym.make(\"Taxi-v3\")\n",
    "env.reset()\n",
    "env.render()"
   ]
  },
  {
   "cell_type": "code",
   "execution_count": 3,
   "id": "a66ac441",
   "metadata": {},
   "outputs": [
    {
     "name": "stdout",
     "output_type": "stream",
     "text": [
      "State size:  500\n",
      "Action size:  6\n"
     ]
    }
   ],
   "source": [
    "state_size = env.observation_space.n\n",
    "print(\"State size: \", state_size)\n",
    "\n",
    "action_size = env.action_space.n\n",
    "print(\"Action size: \", action_size)"
   ]
  },
  {
   "cell_type": "markdown",
   "id": "82888251",
   "metadata": {},
   "source": [
    "### Actions\n",
    "    There are 6 discrete deterministic actions:\n",
    "    - 0: move south\n",
    "    - 1: move north\n",
    "    - 2: move east\n",
    "    - 3: move west\n",
    "    - 4: pickup passenger\n",
    "    - 5: drop off passenger"
   ]
  },
  {
   "cell_type": "code",
   "execution_count": null,
   "id": "441e6066",
   "metadata": {
    "scrolled": false
   },
   "outputs": [],
   "source": [
    "done = False\n",
    "env.reset()\n",
    "env.render()\n",
    "while not done:\n",
    "    action = int(input('0/south 1/north 2/east 3/west 4/pickup 5/drop:'))\n",
    "    new_state, reward, done, info = env.step(action)\n",
    "    time.sleep(1.0) \n",
    "    print(f'S_t+1={new_state}, r_t+1={reward}, done={done}')\n",
    "    env.render()"
   ]
  },
  {
   "cell_type": "code",
   "execution_count": 4,
   "id": "d25ceedf",
   "metadata": {},
   "outputs": [],
   "source": [
    "def eval_policy(env_, pi_, gamma_, t_max_, episodes_):\n",
    "    env_.reset()\n",
    "\n",
    "    v_pi_rep = np.empty(episodes_)\n",
    "    for e in range(episodes_):\n",
    "        s_t = env.reset()\n",
    "        v_pi = 0\n",
    "        for t in range(t_max_):\n",
    "            a_t = pi_[s_t]\n",
    "            s_t, r_t, done, info = env_.step(a_t) \n",
    "            v_pi += gamma_**t*r_t\n",
    "            if done:\n",
    "                break\n",
    "        v_pi_rep[e] = v_pi\n",
    "        env.close()\n",
    "        \n",
    "    return np.mean(v_pi_rep), np.min(v_pi_rep), np.max(v_pi_rep), np.std(v_pi_rep)"
   ]
  },
  {
   "cell_type": "code",
   "execution_count": 5,
   "id": "5fa94746",
   "metadata": {},
   "outputs": [
    {
     "data": {
      "text/plain": [
       "402"
      ]
     },
     "execution_count": 5,
     "metadata": {},
     "output_type": "execute_result"
    }
   ],
   "source": [
    "qtable = np.zeros((500,6)) # Taxi v3\n",
    "episodes = 1500 # num of training episodes\n",
    "interactions = 666 # max num of interactions per episode\n",
    "epsilon = 0.99 # e-greedy\n",
    "alpha = 0.5 # learning rate 1.\n",
    "gamma = 0.9 # reward decay rate\n",
    "hist = [] # evaluation history\n",
    "\n",
    "# Main Q-learning loop\n",
    "for episode in range(episodes):\n",
    "    \n",
    "    state = env.reset()\n",
    "    step = 0\n",
    "    done = False\n",
    "    total_rewards = 0\n",
    "    \n",
    "    for interact in range(interactions):\n",
    "        # exploitation vs. exploratin by e-greedy sampling of actions\n",
    "        if np.random.uniform(0, 1) > epsilon:\n",
    "            action = np.argmax(qtable[state,:])\n",
    "        else:\n",
    "            action = np.random.randint(0,6)\n",
    "\n",
    "        # Observe\n",
    "        new_state, reward, done, info = env.step(action)\n",
    "\n",
    "        # Update Q-table\n",
    "        qtable[state, action] = qtable[state, action] + alpha * (reward + gamma * np.max(qtable[new_state, :]) - qtable[state, action])\n",
    "                \n",
    "        # Our new state is state\n",
    "        state = new_state\n",
    "        \n",
    "        # Check if terminated\n",
    "        if done == True: \n",
    "            break\n",
    "    \n",
    "    if episode % 10 == 0 or episode == 1:\n",
    "        pi = np.argmax(qtable, axis=1)\n",
    "        val_mean, val_min, val_max, val_std = eval_policy(env, pi, gamma, interactions, episodes)\n",
    "        hist.append([episode, val_mean,val_min,val_max,val_std])\n",
    "\n",
    "env.reset()"
   ]
  },
  {
   "cell_type": "code",
   "execution_count": 6,
   "id": "bc80bfe7",
   "metadata": {},
   "outputs": [
    {
     "name": "stdout",
     "output_type": "stream",
     "text": [
      "(151, 5)\n"
     ]
    },
    {
     "data": {
      "image/png": "[encoded data removed]",
      "text/plain": [
       "<Figure size 640x480 with 1 Axes>"
      ]
     },
     "metadata": {},
     "output_type": "display_data"
    }
   ],
   "source": [
    "hist = np.array(hist)\n",
    "print(hist.shape)\n",
    "\n",
    "plt.plot(hist[:,0],hist[:,1])\n",
    "plt.show()"
   ]
  },
  {
   "cell_type": "code",
   "execution_count": 7,
   "id": "496a63b6",
   "metadata": {
    "scrolled": false
   },
   "outputs": [
    {
     "name": "stdout",
     "output_type": "stream",
     "text": [
      "(151, 5)\n"
     ]
    },
    {
     "data": {
      "image/png": "[encoded data removed]",
      "text/plain": [
       "<Figure size 640x480 with 1 Axes>"
      ]
     },
     "metadata": {},
     "output_type": "display_data"
    }
   ],
   "source": [
    "hist = np.array(hist)\n",
    "print(hist.shape)\n",
    "\n",
    "plt.plot(hist[:,0],hist[:,1])\n",
    "# Zero-clipped\n",
    "#plt.fill_between(hist[:,0], np.maximum(hist[:,1]-hist[:,4],np.zeros(hist.shape[0])),hist[:,1]+hist[:,4],\n",
    "plt.fill_between(hist[:,0], hist[:,1]-hist[:,4],hist[:,1]+hist[:,4],\n",
    "                alpha=1, edgecolor='#3F7F4C', facecolor='#7EFF99', linewidth=0)\n",
    "\n",
    "plt.xlabel(\"Episode\")\n",
    "plt.ylabel(\"Mean of the expected return\")\n",
    "plt.grid()\n",
    "plt.show()"
   ]
  },
  {
   "cell_type": "code",
   "execution_count": 32,
   "id": "5db1c46f",
   "metadata": {},
   "outputs": [
    {
     "data": {
      "text/plain": [
       "array([[ 0.        ,  0.        ,  0.        ,  0.        ,  0.        ,\n",
       "         0.        ],\n",
       "       [-0.58568873,  0.4603506 , -0.58569674,  0.46035031,  1.62261312,\n",
       "        -8.53964853],\n",
       "       [ 4.34837108,  5.94271895,  4.34837574,  5.94271287,  7.71414021,\n",
       "        -3.057308  ],\n",
       "       ...,\n",
       "       [ 7.71467843,  9.6829992 ,  7.71465422,  5.94322732, -1.28532811,\n",
       "        -1.28530756],\n",
       "       [ 1.62163619,  2.91360743,  1.62188496,  2.91360548, -7.37818655,\n",
       "        -7.37813462],\n",
       "       [14.29999851, 11.86999298, 14.29999677, 16.99999939,  5.29994863,\n",
       "         5.29999883]])"
      ]
     },
     "execution_count": 32,
     "metadata": {},
     "output_type": "execute_result"
    }
   ],
   "source": [
    "qtable"
   ]
  },
  {
   "cell_type": "code",
   "execution_count": 92,
   "id": "b03e46ee",
   "metadata": {},
   "outputs": [],
   "source": [
    "# Model\n",
    "model = tf.keras.models.Sequential([\n",
    "  tf.keras.layers.InputLayer(input_shape=(state_size,)),\n",
    "  tf.keras.layers.Dense(128, activation='relu'),\n",
    "  tf.keras.layers.Dense(128, activation='relu'),\n",
    "  tf.keras.layers.Dense(action_size, activation='linear')\n",
    "])"
   ]
  },
  {
   "cell_type": "code",
   "execution_count": 93,
   "id": "8eefbebc",
   "metadata": {
    "scrolled": true
   },
   "outputs": [
    {
     "name": "stdout",
     "output_type": "stream",
     "text": [
      "Model: \"sequential_6\"\n",
      "_________________________________________________________________\n",
      " Layer (type)                Output Shape              Param #   \n",
      "=================================================================\n",
      " dense_18 (Dense)            (None, 128)               64128     \n",
      "                                                                 \n",
      " dense_19 (Dense)            (None, 128)               16512     \n",
      "                                                                 \n",
      " dense_20 (Dense)            (None, 6)                 774       \n",
      "                                                                 \n",
      "=================================================================\n",
      "Total params: 81,414\n",
      "Trainable params: 81,414\n",
      "Non-trainable params: 0\n",
      "_________________________________________________________________\n"
     ]
    }
   ],
   "source": [
    "#loss_fn = tf.keras.losses.MeanSquaredError()\n",
    "loss_fn= tf.keras.losses.SparseCategoricalCrossentropy(from_logits=True)\n",
    "opt = tf.keras.optimizers.Adam(learning_rate=0.001)\n",
    "model.compile(optimizer=opt, loss=loss_fn, metrics=['accuracy'])\n",
    "model.summary()"
   ]
  },
  {
   "cell_type": "code",
   "execution_count": 94,
   "id": "b5773150",
   "metadata": {},
   "outputs": [
    {
     "data": {
      "text/plain": [
       "array([[1., 0., 0., ..., 0., 0., 0.],\n",
       "       [0., 1., 0., ..., 0., 0., 0.],\n",
       "       [0., 0., 1., ..., 0., 0., 0.],\n",
       "       ...,\n",
       "       [0., 0., 0., ..., 1., 0., 0.],\n",
       "       [0., 0., 0., ..., 0., 1., 0.],\n",
       "       [0., 0., 0., ..., 0., 0., 1.]])"
      ]
     },
     "execution_count": 94,
     "metadata": {},
     "output_type": "execute_result"
    }
   ],
   "source": [
    "# one hot encoding the states (inputs)\n",
    "x =  np.zeros((state_size, state_size))\n",
    "for i in range(state_size):\n",
    "    x[i][i] = 1\n",
    "    \n",
    "x"
   ]
  },
  {
   "cell_type": "code",
   "execution_count": 95,
   "id": "f9d702d9",
   "metadata": {
    "scrolled": true
   },
   "outputs": [
    {
     "data": {
      "text/plain": [
       "array([0., 4., 4., 4., 0., 0., 0., 0., 0., 0., 0., 0., 0., 0., 0., 0., 5.,\n",
       "       0., 0., 2., 0., 3., 3., 3., 0., 0., 0., 0., 0., 0., 0., 3., 0., 0.,\n",
       "       0., 0., 3., 0., 0., 0., 0., 0., 0., 0., 2., 0., 2., 2., 0., 0., 0.,\n",
       "       0., 0., 0., 0., 0., 0., 2., 0., 0., 0., 0., 0., 0., 2., 0., 2., 2.,\n",
       "       0., 0., 0., 3., 0., 0., 0., 0., 0., 2., 0., 0., 0., 0., 3., 0., 4.,\n",
       "       0., 4., 4., 3., 0., 0., 0., 0., 3., 0., 0., 0., 5., 3., 0., 0., 1.,\n",
       "       1., 1., 0., 0., 2., 0., 0., 0., 0., 0., 2., 2., 0., 0., 1., 2., 0.,\n",
       "       2., 0., 3., 3., 3., 0., 0., 0., 0., 0., 3., 0., 3., 0., 0., 0., 0.,\n",
       "       3., 0., 0., 0., 0., 0., 0., 0., 1., 0., 2., 1., 0., 0., 0., 0., 0.,\n",
       "       0., 2., 0., 0., 2., 0., 0., 0., 0., 0., 0., 2., 0., 2., 2., 0., 3.,\n",
       "       0., 0., 0., 0., 0., 0., 0., 1., 3., 0., 0., 0., 0., 3., 1., 0., 1.,\n",
       "       1., 3., 0., 0., 3., 0., 0., 0., 0., 0., 1., 0., 0., 0., 1., 1., 1.,\n",
       "       2., 0., 2., 2., 0., 0., 0., 0., 2., 2., 2., 0., 1., 2., 0., 2., 0.,\n",
       "       1., 3., 3., 2., 0., 2., 2., 3., 3., 0., 3., 2., 2., 2., 0., 3., 2.,\n",
       "       3., 2., 0., 3., 3., 3., 1., 0., 2., 2., 3., 3., 0., 3., 2., 2., 2.,\n",
       "       0., 3., 2., 3., 2., 0., 3., 3., 3., 1., 0., 1., 2., 3., 3., 0., 3.,\n",
       "       0., 0., 0., 0., 3., 1., 3., 0., 0., 3., 3., 3., 1., 0., 1., 1., 3.,\n",
       "       3., 0., 3., 0., 0., 0., 0., 3., 1., 3., 0., 0., 1., 1., 1., 1., 0.,\n",
       "       1., 1., 0., 0., 0., 0., 1., 1., 1., 0., 1., 1., 0., 1., 0., 1., 1.,\n",
       "       1., 2., 0., 2., 2., 1., 1., 0., 1., 2., 2., 1., 0., 1., 2., 1., 1.,\n",
       "       0., 1., 1., 3., 1., 0., 1., 1., 1., 1., 0., 3., 1., 1., 1., 0., 1.,\n",
       "       1., 3., 1., 0., 1., 1., 1., 1., 0., 1., 1., 1., 1., 0., 1., 0., 0.,\n",
       "       0., 0., 1., 2., 1., 0., 0., 1., 1., 3., 1., 0., 1., 1., 3., 1., 0.,\n",
       "       3., 3., 3., 0., 0., 1., 1., 3., 0., 0., 1., 1., 1., 1., 0., 1., 1.,\n",
       "       4., 4., 0., 4., 1., 1., 1., 0., 1., 1., 5., 1., 0., 1., 1., 1., 2.,\n",
       "       0., 1., 1., 1., 1., 0., 1., 2., 2., 1., 0., 1., 2., 1., 2., 0., 1.,\n",
       "       1., 3., 1., 0., 1., 1., 3., 1., 0., 1., 1., 1., 1., 0., 1., 1., 1.,\n",
       "       1., 0., 1., 1., 1., 2., 0., 1., 1., 1., 1., 0., 1., 4., 4., 4., 0.,\n",
       "       1., 1., 1., 5., 0., 1., 1., 3., 1., 0., 1., 1., 3., 1., 0., 1., 3.,\n",
       "       3., 3., 0., 3., 1., 1., 3.])"
      ]
     },
     "execution_count": 95,
     "metadata": {},
     "output_type": "execute_result"
    }
   ],
   "source": [
    "best_action=np.zeros(state_size)\n",
    "for i in range(state_size):\n",
    "    best_action[i] = np.argmax(qtable[i])\n",
    "\n",
    "y = best_action\n",
    "y"
   ]
  },
  {
   "cell_type": "code",
   "execution_count": 96,
   "id": "c28b1a5a",
   "metadata": {
    "scrolled": true
   },
   "outputs": [
    {
     "name": "stdout",
     "output_type": "stream",
     "text": [
      "Epoch 1/100\n",
      "500/500 [==============================] - 2s 3ms/step - loss: 1.4247 - accuracy: 0.4380\n",
      "Epoch 2/100\n",
      "500/500 [==============================] - 1s 3ms/step - loss: 1.1923 - accuracy: 0.4940\n",
      "Epoch 3/100\n",
      "500/500 [==============================] - 1s 3ms/step - loss: 0.5035 - accuracy: 0.8780\n",
      "Epoch 4/100\n",
      "500/500 [==============================] - 1s 3ms/step - loss: 0.1296 - accuracy: 0.9660\n",
      "Epoch 5/100\n",
      "500/500 [==============================] - 1s 3ms/step - loss: 0.0444 - accuracy: 0.9920\n",
      "Epoch 6/100\n",
      "500/500 [==============================] - 1s 3ms/step - loss: 0.0188 - accuracy: 0.9960\n",
      "Epoch 7/100\n",
      "500/500 [==============================] - 2s 3ms/step - loss: 0.0082 - accuracy: 1.0000\n",
      "Epoch 8/100\n",
      "500/500 [==============================] - 2s 3ms/step - loss: 0.0032 - accuracy: 1.0000\n",
      "Epoch 9/100\n",
      "500/500 [==============================] - 2s 4ms/step - loss: 0.0013 - accuracy: 1.0000\n",
      "Epoch 10/100\n",
      "500/500 [==============================] - 2s 3ms/step - loss: 6.4977e-04 - accuracy: 1.0000\n",
      "Epoch 11/100\n",
      "500/500 [==============================] - 1s 3ms/step - loss: 3.8048e-04 - accuracy: 1.0000\n",
      "Epoch 12/100\n",
      "500/500 [==============================] - 1s 3ms/step - loss: 2.3811e-04 - accuracy: 1.0000\n",
      "Epoch 13/100\n",
      "500/500 [==============================] - 1s 3ms/step - loss: 1.6032e-04 - accuracy: 1.0000\n",
      "Epoch 14/100\n",
      "500/500 [==============================] - 1s 3ms/step - loss: 1.1025e-04 - accuracy: 1.0000\n",
      "Epoch 15/100\n",
      "500/500 [==============================] - 1s 3ms/step - loss: 7.7031e-05 - accuracy: 1.0000\n",
      "Epoch 16/100\n",
      "500/500 [==============================] - 1s 3ms/step - loss: 5.5416e-05 - accuracy: 1.0000\n",
      "Epoch 17/100\n",
      "500/500 [==============================] - 1s 3ms/step - loss: 3.9908e-05 - accuracy: 1.0000\n",
      "Epoch 18/100\n",
      "500/500 [==============================] - 1s 3ms/step - loss: 2.8938e-05 - accuracy: 1.0000\n",
      "Epoch 19/100\n",
      "500/500 [==============================] - 1s 3ms/step - loss: 2.1160e-05 - accuracy: 1.0000\n",
      "Epoch 20/100\n",
      "500/500 [==============================] - 1s 3ms/step - loss: 1.5587e-05 - accuracy: 1.0000\n",
      "Epoch 21/100\n",
      "500/500 [==============================] - 1s 2ms/step - loss: 1.1530e-05 - accuracy: 1.0000\n",
      "Epoch 22/100\n",
      "500/500 [==============================] - 1s 3ms/step - loss: 8.5470e-06 - accuracy: 1.0000\n",
      "Epoch 23/100\n",
      "500/500 [==============================] - 1s 3ms/step - loss: 6.4264e-06 - accuracy: 1.0000\n",
      "Epoch 24/100\n",
      "500/500 [==============================] - 1s 3ms/step - loss: 4.8107e-06 - accuracy: 1.0000\n",
      "Epoch 25/100\n",
      "500/500 [==============================] - 1s 3ms/step - loss: 3.5877e-06 - accuracy: 1.0000\n",
      "Epoch 26/100\n",
      "500/500 [==============================] - 1s 3ms/step - loss: 2.7020e-06 - accuracy: 1.0000\n",
      "Epoch 27/100\n",
      "500/500 [==============================] - 1s 3ms/step - loss: 2.0366e-06 - accuracy: 1.0000\n",
      "Epoch 28/100\n",
      "500/500 [==============================] - 2s 3ms/step - loss: 1.5359e-06 - accuracy: 1.0000\n",
      "Epoch 29/100\n",
      "500/500 [==============================] - 1s 2ms/step - loss: 1.1604e-06 - accuracy: 1.0000\n",
      "Epoch 30/100\n",
      "500/500 [==============================] - 1s 2ms/step - loss: 8.7738e-07 - accuracy: 1.0000\n",
      "Epoch 31/100\n",
      "500/500 [==============================] - 2s 3ms/step - loss: 6.5422e-07 - accuracy: 1.0000\n",
      "Epoch 32/100\n",
      "500/500 [==============================] - 2s 3ms/step - loss: 4.9162e-07 - accuracy: 1.0000\n",
      "Epoch 33/100\n",
      "500/500 [==============================] - 1s 3ms/step - loss: 3.6979e-07 - accuracy: 1.0000\n",
      "Epoch 34/100\n",
      "500/500 [==============================] - 1s 3ms/step - loss: 2.7251e-07 - accuracy: 1.0000\n",
      "Epoch 35/100\n",
      "500/500 [==============================] - 1s 3ms/step - loss: 2.0242e-07 - accuracy: 1.0000\n",
      "Epoch 36/100\n",
      "500/500 [==============================] - 1s 3ms/step - loss: 1.4472e-07 - accuracy: 1.0000\n",
      "Epoch 37/100\n",
      "500/500 [==============================] - 2s 4ms/step - loss: 9.8944e-08 - accuracy: 1.0000\n",
      "Epoch 38/100\n",
      "500/500 [==============================] - 2s 3ms/step - loss: 6.9857e-08 - accuracy: 1.0000\n",
      "Epoch 39/100\n",
      "500/500 [==============================] - 2s 4ms/step - loss: 4.7445e-08 - accuracy: 1.0000\n",
      "Epoch 40/100\n",
      "500/500 [==============================] - 1s 3ms/step - loss: 3.1948e-08 - accuracy: 1.0000\n",
      "Epoch 41/100\n",
      "500/500 [==============================] - 2s 3ms/step - loss: 2.0504e-08 - accuracy: 1.0000\n",
      "Epoch 42/100\n",
      "500/500 [==============================] - 2s 4ms/step - loss: 1.4067e-08 - accuracy: 1.0000\n",
      "Epoch 43/100\n",
      "500/500 [==============================] - 2s 3ms/step - loss: 9.0599e-09 - accuracy: 1.0000\n",
      "Epoch 44/100\n",
      "500/500 [==============================] - 1s 3ms/step - loss: 5.9605e-09 - accuracy: 1.0000\n",
      "Epoch 45/100\n",
      "500/500 [==============================] - 2s 3ms/step - loss: 3.5763e-09 - accuracy: 1.0000\n",
      "Epoch 46/100\n",
      "500/500 [==============================] - 1s 3ms/step - loss: 1.6689e-09 - accuracy: 1.0000\n",
      "Epoch 47/100\n",
      "500/500 [==============================] - 1s 3ms/step - loss: 9.5367e-10 - accuracy: 1.0000\n",
      "Epoch 48/100\n",
      "500/500 [==============================] - 1s 3ms/step - loss: 2.3842e-10 - accuracy: 1.0000\n",
      "Epoch 49/100\n",
      "500/500 [==============================] - 2s 3ms/step - loss: 0.0000e+00 - accuracy: 1.0000\n",
      "Epoch 50/100\n",
      "500/500 [==============================] - 1s 3ms/step - loss: 0.0000e+00 - accuracy: 1.0000\n",
      "Epoch 51/100\n",
      "500/500 [==============================] - 1s 3ms/step - loss: 0.0000e+00 - accuracy: 1.0000\n",
      "Epoch 52/100\n",
      "500/500 [==============================] - 1s 3ms/step - loss: 0.0000e+00 - accuracy: 1.0000\n",
      "Epoch 53/100\n",
      "500/500 [==============================] - 1s 3ms/step - loss: 0.0000e+00 - accuracy: 1.0000\n",
      "Epoch 54/100\n",
      "500/500 [==============================] - 1s 3ms/step - loss: 0.0000e+00 - accuracy: 1.0000\n",
      "Epoch 55/100\n",
      "500/500 [==============================] - 1s 3ms/step - loss: 0.0000e+00 - accuracy: 1.0000\n",
      "Epoch 56/100\n",
      "500/500 [==============================] - 2s 4ms/step - loss: 0.0000e+00 - accuracy: 1.0000\n",
      "Epoch 57/100\n",
      "500/500 [==============================] - 1s 3ms/step - loss: 0.0000e+00 - accuracy: 1.0000\n",
      "Epoch 58/100\n",
      "500/500 [==============================] - 1s 3ms/step - loss: 0.0000e+00 - accuracy: 1.0000\n",
      "Epoch 59/100\n",
      "500/500 [==============================] - 1s 3ms/step - loss: 0.0000e+00 - accuracy: 1.0000\n",
      "Epoch 60/100\n",
      "500/500 [==============================] - 1s 3ms/step - loss: 0.0000e+00 - accuracy: 1.0000\n",
      "Epoch 61/100\n",
      "500/500 [==============================] - 1s 3ms/step - loss: 0.0000e+00 - accuracy: 1.0000\n",
      "Epoch 62/100\n",
      "500/500 [==============================] - 1s 2ms/step - loss: 0.0000e+00 - accuracy: 1.0000\n",
      "Epoch 63/100\n",
      "500/500 [==============================] - 1s 3ms/step - loss: 2.3842e-10 - accuracy: 1.0000\n",
      "Epoch 64/100\n",
      "500/500 [==============================] - 1s 3ms/step - loss: 0.0000e+00 - accuracy: 1.0000\n",
      "Epoch 65/100\n",
      "500/500 [==============================] - 1s 3ms/step - loss: 0.4121 - accuracy: 0.9680\n",
      "Epoch 66/100\n",
      "500/500 [==============================] - 1s 3ms/step - loss: 6.3747e-06 - accuracy: 1.0000\n",
      "Epoch 67/100\n",
      "500/500 [==============================] - 1s 3ms/step - loss: 2.1458e-09 - accuracy: 1.0000\n",
      "Epoch 68/100\n",
      "500/500 [==============================] - 1s 3ms/step - loss: 2.1458e-09 - accuracy: 1.0000\n",
      "Epoch 69/100\n",
      "500/500 [==============================] - 1s 3ms/step - loss: 2.1458e-09 - accuracy: 1.0000\n",
      "Epoch 70/100\n",
      "500/500 [==============================] - 2s 3ms/step - loss: 2.1458e-09 - accuracy: 1.0000\n",
      "Epoch 71/100\n",
      "500/500 [==============================] - 1s 3ms/step - loss: 2.1458e-09 - accuracy: 1.0000\n",
      "Epoch 72/100\n",
      "500/500 [==============================] - 2s 4ms/step - loss: 2.1458e-09 - accuracy: 1.0000\n",
      "Epoch 73/100\n",
      "500/500 [==============================] - 1s 3ms/step - loss: 2.1458e-09 - accuracy: 1.0000\n",
      "Epoch 74/100\n",
      "500/500 [==============================] - 1s 3ms/step - loss: 2.1458e-09 - accuracy: 1.0000\n",
      "Epoch 75/100\n",
      "500/500 [==============================] - 2s 3ms/step - loss: 2.1458e-09 - accuracy: 1.0000\n",
      "Epoch 76/100\n",
      "500/500 [==============================] - 1s 3ms/step - loss: 2.1458e-09 - accuracy: 1.0000\n",
      "Epoch 77/100\n",
      "500/500 [==============================] - 1s 3ms/step - loss: 2.1458e-09 - accuracy: 1.0000\n",
      "Epoch 78/100\n"
     ]
    },
    {
     "name": "stdout",
     "output_type": "stream",
     "text": [
      "500/500 [==============================] - 1s 3ms/step - loss: 2.1458e-09 - accuracy: 1.0000\n",
      "Epoch 79/100\n",
      "500/500 [==============================] - 1s 3ms/step - loss: 2.1458e-09 - accuracy: 1.0000\n",
      "Epoch 80/100\n",
      "500/500 [==============================] - 1s 3ms/step - loss: 2.1458e-09 - accuracy: 1.0000\n",
      "Epoch 81/100\n",
      "500/500 [==============================] - 1s 3ms/step - loss: 2.1458e-09 - accuracy: 1.0000\n",
      "Epoch 82/100\n",
      "500/500 [==============================] - 1s 3ms/step - loss: 2.1458e-09 - accuracy: 1.0000\n",
      "Epoch 83/100\n",
      "500/500 [==============================] - 2s 3ms/step - loss: 2.1458e-09 - accuracy: 1.0000\n",
      "Epoch 84/100\n",
      "500/500 [==============================] - 1s 3ms/step - loss: 2.1458e-09 - accuracy: 1.0000\n",
      "Epoch 85/100\n",
      "500/500 [==============================] - 1s 3ms/step - loss: 2.1458e-09 - accuracy: 1.0000\n",
      "Epoch 86/100\n",
      "500/500 [==============================] - 1s 3ms/step - loss: 2.1458e-09 - accuracy: 1.0000\n",
      "Epoch 87/100\n",
      "500/500 [==============================] - 1s 3ms/step - loss: 2.1458e-09 - accuracy: 1.0000\n",
      "Epoch 88/100\n",
      "500/500 [==============================] - 1s 3ms/step - loss: 1.6689e-09 - accuracy: 1.0000\n",
      "Epoch 89/100\n",
      "500/500 [==============================] - 1s 3ms/step - loss: 1.4305e-09 - accuracy: 1.0000\n",
      "Epoch 90/100\n",
      "500/500 [==============================] - 2s 3ms/step - loss: 1.4305e-09 - accuracy: 1.0000\n",
      "Epoch 91/100\n",
      "500/500 [==============================] - 1s 3ms/step - loss: 1.4305e-09 - accuracy: 1.0000\n",
      "Epoch 92/100\n",
      "500/500 [==============================] - 2s 3ms/step - loss: 1.4305e-09 - accuracy: 1.0000\n",
      "Epoch 93/100\n",
      "500/500 [==============================] - 2s 3ms/step - loss: 1.1921e-09 - accuracy: 1.0000\n",
      "Epoch 94/100\n",
      "500/500 [==============================] - 1s 3ms/step - loss: 1.1921e-09 - accuracy: 1.0000\n",
      "Epoch 95/100\n",
      "500/500 [==============================] - 1s 3ms/step - loss: 1.1921e-09 - accuracy: 1.0000\n",
      "Epoch 96/100\n",
      "500/500 [==============================] - 1s 3ms/step - loss: 7.1526e-10 - accuracy: 1.0000\n",
      "Epoch 97/100\n",
      "500/500 [==============================] - 1s 3ms/step - loss: 7.1526e-10 - accuracy: 1.0000\n",
      "Epoch 98/100\n",
      "500/500 [==============================] - 2s 3ms/step - loss: 4.7684e-10 - accuracy: 1.0000\n",
      "Epoch 99/100\n",
      "500/500 [==============================] - 1s 3ms/step - loss: 4.7684e-10 - accuracy: 1.0000\n",
      "Epoch 100/100\n",
      "500/500 [==============================] - 1s 3ms/step - loss: 4.7684e-10 - accuracy: 1.0000\n"
     ]
    }
   ],
   "source": [
    "history = model.fit(x,y, epochs=100, steps_per_epoch=500)"
   ]
  },
  {
   "cell_type": "code",
   "execution_count": 97,
   "id": "b510b490",
   "metadata": {},
   "outputs": [
    {
     "data": {
      "text/plain": [
       "[<matplotlib.lines.Line2D at 0x2a58b14cbb0>]"
      ]
     },
     "execution_count": 97,
     "metadata": {},
     "output_type": "execute_result"
    },
    {
     "data": {
      "image/png": "[encoded data removed]",
      "text/plain": [
       "<Figure size 640x480 with 1 Axes>"
      ]
     },
     "metadata": {},
     "output_type": "display_data"
    }
   ],
   "source": [
    "plt.plot(history.history['loss'])"
   ]
  },
  {
   "cell_type": "code",
   "execution_count": 98,
   "id": "a7b160f1",
   "metadata": {},
   "outputs": [
    {
     "data": {
      "text/plain": [
       "[<matplotlib.lines.Line2D at 0x2a593444df0>]"
      ]
     },
     "execution_count": 98,
     "metadata": {},
     "output_type": "execute_result"
    },
    {
     "data": {
      "image/png": "[encoded data removed]",
      "text/plain": [
       "<Figure size 640x480 with 1 Axes>"
      ]
     },
     "metadata": {},
     "output_type": "display_data"
    }
   ],
   "source": [
    "plt.plot(history.history['accuracy'])"
   ]
  },
  {
   "cell_type": "code",
   "execution_count": 126,
   "id": "302f5e80",
   "metadata": {
    "scrolled": true
   },
   "outputs": [
    {
     "ename": "InvalidArgumentError",
     "evalue": "Graph execution error:\n\nDetected at node 'sequential_6/dense_18/MatMul' defined at (most recent call last):\n    File \"C:\\Users\\mahad\\anaconda3\\envs\\DATAML200\\lib\\runpy.py\", line 197, in _run_module_as_main\n      return _run_code(code, main_globals, None,\n    File \"C:\\Users\\mahad\\anaconda3\\envs\\DATAML200\\lib\\runpy.py\", line 87, in _run_code\n      exec(code, run_globals)\n    File \"C:\\Users\\mahad\\anaconda3\\envs\\DATAML200\\lib\\site-packages\\ipykernel_launcher.py\", line 17, in <module>\n      app.launch_new_instance()\n    File \"C:\\Users\\mahad\\anaconda3\\envs\\DATAML200\\lib\\site-packages\\traitlets\\config\\application.py\", line 846, in launch_instance\n      app.start()\n    File \"C:\\Users\\mahad\\anaconda3\\envs\\DATAML200\\lib\\site-packages\\ipykernel\\kernelapp.py\", line 712, in start\n      self.io_loop.start()\n    File \"C:\\Users\\mahad\\anaconda3\\envs\\DATAML200\\lib\\site-packages\\tornado\\platform\\asyncio.py\", line 199, in start\n      self.asyncio_loop.run_forever()\n    File \"C:\\Users\\mahad\\anaconda3\\envs\\DATAML200\\lib\\asyncio\\base_events.py\", line 601, in run_forever\n      self._run_once()\n    File \"C:\\Users\\mahad\\anaconda3\\envs\\DATAML200\\lib\\asyncio\\base_events.py\", line 1905, in _run_once\n      handle._run()\n    File \"C:\\Users\\mahad\\anaconda3\\envs\\DATAML200\\lib\\asyncio\\events.py\", line 80, in _run\n      self._context.run(self._callback, *self._args)\n    File \"C:\\Users\\mahad\\anaconda3\\envs\\DATAML200\\lib\\site-packages\\ipykernel\\kernelbase.py\", line 510, in dispatch_queue\n      await self.process_one()\n    File \"C:\\Users\\mahad\\anaconda3\\envs\\DATAML200\\lib\\site-packages\\ipykernel\\kernelbase.py\", line 499, in process_one\n      await dispatch(*args)\n    File \"C:\\Users\\mahad\\anaconda3\\envs\\DATAML200\\lib\\site-packages\\ipykernel\\kernelbase.py\", line 406, in dispatch_shell\n      await result\n    File \"C:\\Users\\mahad\\anaconda3\\envs\\DATAML200\\lib\\site-packages\\ipykernel\\kernelbase.py\", line 730, in execute_request\n      reply_content = await reply_content\n    File \"C:\\Users\\mahad\\anaconda3\\envs\\DATAML200\\lib\\site-packages\\ipykernel\\ipkernel.py\", line 390, in do_execute\n      res = shell.run_cell(code, store_history=store_history, silent=silent)\n    File \"C:\\Users\\mahad\\anaconda3\\envs\\DATAML200\\lib\\site-packages\\ipykernel\\zmqshell.py\", line 528, in run_cell\n      return super().run_cell(*args, **kwargs)\n    File \"C:\\Users\\mahad\\anaconda3\\envs\\DATAML200\\lib\\site-packages\\IPython\\core\\interactiveshell.py\", line 2914, in run_cell\n      result = self._run_cell(\n    File \"C:\\Users\\mahad\\anaconda3\\envs\\DATAML200\\lib\\site-packages\\IPython\\core\\interactiveshell.py\", line 2960, in _run_cell\n      return runner(coro)\n    File \"C:\\Users\\mahad\\anaconda3\\envs\\DATAML200\\lib\\site-packages\\IPython\\core\\async_helpers.py\", line 78, in _pseudo_sync_runner\n      coro.send(None)\n    File \"C:\\Users\\mahad\\anaconda3\\envs\\DATAML200\\lib\\site-packages\\IPython\\core\\interactiveshell.py\", line 3185, in run_cell_async\n      has_raised = await self.run_ast_nodes(code_ast.body, cell_name,\n    File \"C:\\Users\\mahad\\anaconda3\\envs\\DATAML200\\lib\\site-packages\\IPython\\core\\interactiveshell.py\", line 3377, in run_ast_nodes\n      if (await self.run_code(code, result,  async_=asy)):\n    File \"C:\\Users\\mahad\\anaconda3\\envs\\DATAML200\\lib\\site-packages\\IPython\\core\\interactiveshell.py\", line 3457, in run_code\n      exec(code_obj, self.user_global_ns, self.user_ns)\n    File \"C:\\Users\\mahad\\AppData\\Local\\Temp\\ipykernel_15592\\1792697864.py\", line 7, in <module>\n      action = model.predict(np.array(new_state))\n    File \"C:\\Users\\mahad\\anaconda3\\envs\\DATAML200\\lib\\site-packages\\keras\\utils\\traceback_utils.py\", line 65, in error_handler\n      return fn(*args, **kwargs)\n    File \"C:\\Users\\mahad\\anaconda3\\envs\\DATAML200\\lib\\site-packages\\keras\\engine\\training.py\", line 2382, in predict\n      tmp_batch_outputs = self.predict_function(iterator)\n    File \"C:\\Users\\mahad\\anaconda3\\envs\\DATAML200\\lib\\site-packages\\keras\\engine\\training.py\", line 2169, in predict_function\n      return step_function(self, iterator)\n    File \"C:\\Users\\mahad\\anaconda3\\envs\\DATAML200\\lib\\site-packages\\keras\\engine\\training.py\", line 2155, in step_function\n      outputs = model.distribute_strategy.run(run_step, args=(data,))\n    File \"C:\\Users\\mahad\\anaconda3\\envs\\DATAML200\\lib\\site-packages\\keras\\engine\\training.py\", line 2143, in run_step\n      outputs = model.predict_step(data)\n    File \"C:\\Users\\mahad\\anaconda3\\envs\\DATAML200\\lib\\site-packages\\keras\\engine\\training.py\", line 2111, in predict_step\n      return self(x, training=False)\n    File \"C:\\Users\\mahad\\anaconda3\\envs\\DATAML200\\lib\\site-packages\\keras\\utils\\traceback_utils.py\", line 65, in error_handler\n      return fn(*args, **kwargs)\n    File \"C:\\Users\\mahad\\anaconda3\\envs\\DATAML200\\lib\\site-packages\\keras\\engine\\training.py\", line 558, in __call__\n      return super().__call__(*args, **kwargs)\n    File \"C:\\Users\\mahad\\anaconda3\\envs\\DATAML200\\lib\\site-packages\\keras\\utils\\traceback_utils.py\", line 65, in error_handler\n      return fn(*args, **kwargs)\n    File \"C:\\Users\\mahad\\anaconda3\\envs\\DATAML200\\lib\\site-packages\\keras\\engine\\base_layer.py\", line 1145, in __call__\n      outputs = call_fn(inputs, *args, **kwargs)\n    File \"C:\\Users\\mahad\\anaconda3\\envs\\DATAML200\\lib\\site-packages\\keras\\utils\\traceback_utils.py\", line 96, in error_handler\n      return fn(*args, **kwargs)\n    File \"C:\\Users\\mahad\\anaconda3\\envs\\DATAML200\\lib\\site-packages\\keras\\engine\\sequential.py\", line 412, in call\n      return super().call(inputs, training=training, mask=mask)\n    File \"C:\\Users\\mahad\\anaconda3\\envs\\DATAML200\\lib\\site-packages\\keras\\engine\\functional.py\", line 512, in call\n      return self._run_internal_graph(inputs, training=training, mask=mask)\n    File \"C:\\Users\\mahad\\anaconda3\\envs\\DATAML200\\lib\\site-packages\\keras\\engine\\functional.py\", line 669, in _run_internal_graph\n      outputs = node.layer(*args, **kwargs)\n    File \"C:\\Users\\mahad\\anaconda3\\envs\\DATAML200\\lib\\site-packages\\keras\\utils\\traceback_utils.py\", line 65, in error_handler\n      return fn(*args, **kwargs)\n    File \"C:\\Users\\mahad\\anaconda3\\envs\\DATAML200\\lib\\site-packages\\keras\\engine\\base_layer.py\", line 1145, in __call__\n      outputs = call_fn(inputs, *args, **kwargs)\n    File \"C:\\Users\\mahad\\anaconda3\\envs\\DATAML200\\lib\\site-packages\\keras\\utils\\traceback_utils.py\", line 96, in error_handler\n      return fn(*args, **kwargs)\n    File \"C:\\Users\\mahad\\anaconda3\\envs\\DATAML200\\lib\\site-packages\\keras\\layers\\core\\dense.py\", line 241, in call\n      outputs = tf.matmul(a=inputs, b=self.kernel)\nNode: 'sequential_6/dense_18/MatMul'\nIn[0] ndims must be >= 2: 1\n\t [[{{node sequential_6/dense_18/MatMul}}]] [Op:__inference_predict_function_1477162]",
     "output_type": "error",
     "traceback": [
      "\u001b[1;31m---------------------------------------------------------------------------\u001b[0m",
      "\u001b[1;31mInvalidArgumentError\u001b[0m                      Traceback (most recent call last)",
      "\u001b[1;32m~\\AppData\\Local\\Temp\\ipykernel_15592\\4093127987.py\u001b[0m in \u001b[0;36m<module>\u001b[1;34m\u001b[0m\n\u001b[0;32m      5\u001b[0m \u001b[1;32mwhile\u001b[0m \u001b[1;32mnot\u001b[0m \u001b[0mdone\u001b[0m\u001b[1;33m:\u001b[0m\u001b[1;33m\u001b[0m\u001b[1;33m\u001b[0m\u001b[0m\n\u001b[0;32m      6\u001b[0m     \u001b[0mnew_state\u001b[0m \u001b[1;33m=\u001b[0m \u001b[0mtf\u001b[0m\u001b[1;33m.\u001b[0m\u001b[0mone_hot\u001b[0m\u001b[1;33m(\u001b[0m\u001b[0mnew_state\u001b[0m\u001b[1;33m,\u001b[0m\u001b[1;36m500\u001b[0m\u001b[1;33m)\u001b[0m\u001b[1;33m\u001b[0m\u001b[1;33m\u001b[0m\u001b[0m\n\u001b[1;32m----> 7\u001b[1;33m     \u001b[0maction\u001b[0m \u001b[1;33m=\u001b[0m \u001b[0mmodel\u001b[0m\u001b[1;33m.\u001b[0m\u001b[0mpredict\u001b[0m\u001b[1;33m(\u001b[0m\u001b[0mnew_state\u001b[0m\u001b[1;33m)\u001b[0m\u001b[1;33m\u001b[0m\u001b[1;33m\u001b[0m\u001b[0m\n\u001b[0m\u001b[0;32m      8\u001b[0m     \u001b[0mprint\u001b[0m\u001b[1;33m(\u001b[0m\u001b[0maction\u001b[0m\u001b[1;33m)\u001b[0m\u001b[1;33m\u001b[0m\u001b[1;33m\u001b[0m\u001b[0m\n\u001b[0;32m      9\u001b[0m     \u001b[0mnew_state\u001b[0m\u001b[1;33m,\u001b[0m \u001b[0mreward\u001b[0m\u001b[1;33m,\u001b[0m \u001b[0mdone\u001b[0m\u001b[1;33m,\u001b[0m \u001b[0m_\u001b[0m \u001b[1;33m=\u001b[0m \u001b[0menv\u001b[0m\u001b[1;33m.\u001b[0m\u001b[0mstep\u001b[0m\u001b[1;33m(\u001b[0m\u001b[0maction\u001b[0m\u001b[1;33m)\u001b[0m\u001b[1;33m\u001b[0m\u001b[1;33m\u001b[0m\u001b[0m\n",
      "\u001b[1;32m~\\anaconda3\\envs\\DATAML200\\lib\\site-packages\\keras\\utils\\traceback_utils.py\u001b[0m in \u001b[0;36merror_handler\u001b[1;34m(*args, **kwargs)\u001b[0m\n\u001b[0;32m     68\u001b[0m             \u001b[1;31m# To get the full stack trace, call:\u001b[0m\u001b[1;33m\u001b[0m\u001b[1;33m\u001b[0m\u001b[0m\n\u001b[0;32m     69\u001b[0m             \u001b[1;31m# `tf.debugging.disable_traceback_filtering()`\u001b[0m\u001b[1;33m\u001b[0m\u001b[1;33m\u001b[0m\u001b[0m\n\u001b[1;32m---> 70\u001b[1;33m             \u001b[1;32mraise\u001b[0m \u001b[0me\u001b[0m\u001b[1;33m.\u001b[0m\u001b[0mwith_traceback\u001b[0m\u001b[1;33m(\u001b[0m\u001b[0mfiltered_tb\u001b[0m\u001b[1;33m)\u001b[0m \u001b[1;32mfrom\u001b[0m \u001b[1;32mNone\u001b[0m\u001b[1;33m\u001b[0m\u001b[1;33m\u001b[0m\u001b[0m\n\u001b[0m\u001b[0;32m     71\u001b[0m         \u001b[1;32mfinally\u001b[0m\u001b[1;33m:\u001b[0m\u001b[1;33m\u001b[0m\u001b[1;33m\u001b[0m\u001b[0m\n\u001b[0;32m     72\u001b[0m             \u001b[1;32mdel\u001b[0m \u001b[0mfiltered_tb\u001b[0m\u001b[1;33m\u001b[0m\u001b[1;33m\u001b[0m\u001b[0m\n",
      "\u001b[1;32m~\\anaconda3\\envs\\DATAML200\\lib\\site-packages\\tensorflow\\python\\eager\\execute.py\u001b[0m in \u001b[0;36mquick_execute\u001b[1;34m(op_name, num_outputs, inputs, attrs, ctx, name)\u001b[0m\n\u001b[0;32m     50\u001b[0m   \u001b[1;32mtry\u001b[0m\u001b[1;33m:\u001b[0m\u001b[1;33m\u001b[0m\u001b[1;33m\u001b[0m\u001b[0m\n\u001b[0;32m     51\u001b[0m     \u001b[0mctx\u001b[0m\u001b[1;33m.\u001b[0m\u001b[0mensure_initialized\u001b[0m\u001b[1;33m(\u001b[0m\u001b[1;33m)\u001b[0m\u001b[1;33m\u001b[0m\u001b[1;33m\u001b[0m\u001b[0m\n\u001b[1;32m---> 52\u001b[1;33m     tensors = pywrap_tfe.TFE_Py_Execute(ctx._handle, device_name, op_name,\n\u001b[0m\u001b[0;32m     53\u001b[0m                                         inputs, attrs, num_outputs)\n\u001b[0;32m     54\u001b[0m   \u001b[1;32mexcept\u001b[0m \u001b[0mcore\u001b[0m\u001b[1;33m.\u001b[0m\u001b[0m_NotOkStatusException\u001b[0m \u001b[1;32mas\u001b[0m \u001b[0me\u001b[0m\u001b[1;33m:\u001b[0m\u001b[1;33m\u001b[0m\u001b[1;33m\u001b[0m\u001b[0m\n",
      "\u001b[1;31mInvalidArgumentError\u001b[0m: Graph execution error:\n\nDetected at node 'sequential_6/dense_18/MatMul' defined at (most recent call last):\n    File \"C:\\Users\\mahad\\anaconda3\\envs\\DATAML200\\lib\\runpy.py\", line 197, in _run_module_as_main\n      return _run_code(code, main_globals, None,\n    File \"C:\\Users\\mahad\\anaconda3\\envs\\DATAML200\\lib\\runpy.py\", line 87, in _run_code\n      exec(code, run_globals)\n    File \"C:\\Users\\mahad\\anaconda3\\envs\\DATAML200\\lib\\site-packages\\ipykernel_launcher.py\", line 17, in <module>\n      app.launch_new_instance()\n    File \"C:\\Users\\mahad\\anaconda3\\envs\\DATAML200\\lib\\site-packages\\traitlets\\config\\application.py\", line 846, in launch_instance\n      app.start()\n    File \"C:\\Users\\mahad\\anaconda3\\envs\\DATAML200\\lib\\site-packages\\ipykernel\\kernelapp.py\", line 712, in start\n      self.io_loop.start()\n    File \"C:\\Users\\mahad\\anaconda3\\envs\\DATAML200\\lib\\site-packages\\tornado\\platform\\asyncio.py\", line 199, in start\n      self.asyncio_loop.run_forever()\n    File \"C:\\Users\\mahad\\anaconda3\\envs\\DATAML200\\lib\\asyncio\\base_events.py\", line 601, in run_forever\n      self._run_once()\n    File \"C:\\Users\\mahad\\anaconda3\\envs\\DATAML200\\lib\\asyncio\\base_events.py\", line 1905, in _run_once\n      handle._run()\n    File \"C:\\Users\\mahad\\anaconda3\\envs\\DATAML200\\lib\\asyncio\\events.py\", line 80, in _run\n      self._context.run(self._callback, *self._args)\n    File \"C:\\Users\\mahad\\anaconda3\\envs\\DATAML200\\lib\\site-packages\\ipykernel\\kernelbase.py\", line 510, in dispatch_queue\n      await self.process_one()\n    File \"C:\\Users\\mahad\\anaconda3\\envs\\DATAML200\\lib\\site-packages\\ipykernel\\kernelbase.py\", line 499, in process_one\n      await dispatch(*args)\n    File \"C:\\Users\\mahad\\anaconda3\\envs\\DATAML200\\lib\\site-packages\\ipykernel\\kernelbase.py\", line 406, in dispatch_shell\n      await result\n    File \"C:\\Users\\mahad\\anaconda3\\envs\\DATAML200\\lib\\site-packages\\ipykernel\\kernelbase.py\", line 730, in execute_request\n      reply_content = await reply_content\n    File \"C:\\Users\\mahad\\anaconda3\\envs\\DATAML200\\lib\\site-packages\\ipykernel\\ipkernel.py\", line 390, in do_execute\n      res = shell.run_cell(code, store_history=store_history, silent=silent)\n    File \"C:\\Users\\mahad\\anaconda3\\envs\\DATAML200\\lib\\site-packages\\ipykernel\\zmqshell.py\", line 528, in run_cell\n      return super().run_cell(*args, **kwargs)\n    File \"C:\\Users\\mahad\\anaconda3\\envs\\DATAML200\\lib\\site-packages\\IPython\\core\\interactiveshell.py\", line 2914, in run_cell\n      result = self._run_cell(\n    File \"C:\\Users\\mahad\\anaconda3\\envs\\DATAML200\\lib\\site-packages\\IPython\\core\\interactiveshell.py\", line 2960, in _run_cell\n      return runner(coro)\n    File \"C:\\Users\\mahad\\anaconda3\\envs\\DATAML200\\lib\\site-packages\\IPython\\core\\async_helpers.py\", line 78, in _pseudo_sync_runner\n      coro.send(None)\n    File \"C:\\Users\\mahad\\anaconda3\\envs\\DATAML200\\lib\\site-packages\\IPython\\core\\interactiveshell.py\", line 3185, in run_cell_async\n      has_raised = await self.run_ast_nodes(code_ast.body, cell_name,\n    File \"C:\\Users\\mahad\\anaconda3\\envs\\DATAML200\\lib\\site-packages\\IPython\\core\\interactiveshell.py\", line 3377, in run_ast_nodes\n      if (await self.run_code(code, result,  async_=asy)):\n    File \"C:\\Users\\mahad\\anaconda3\\envs\\DATAML200\\lib\\site-packages\\IPython\\core\\interactiveshell.py\", line 3457, in run_code\n      exec(code_obj, self.user_global_ns, self.user_ns)\n    File \"C:\\Users\\mahad\\AppData\\Local\\Temp\\ipykernel_15592\\1792697864.py\", line 7, in <module>\n      action = model.predict(np.array(new_state))\n    File \"C:\\Users\\mahad\\anaconda3\\envs\\DATAML200\\lib\\site-packages\\keras\\utils\\traceback_utils.py\", line 65, in error_handler\n      return fn(*args, **kwargs)\n    File \"C:\\Users\\mahad\\anaconda3\\envs\\DATAML200\\lib\\site-packages\\keras\\engine\\training.py\", line 2382, in predict\n      tmp_batch_outputs = self.predict_function(iterator)\n    File \"C:\\Users\\mahad\\anaconda3\\envs\\DATAML200\\lib\\site-packages\\keras\\engine\\training.py\", line 2169, in predict_function\n      return step_function(self, iterator)\n    File \"C:\\Users\\mahad\\anaconda3\\envs\\DATAML200\\lib\\site-packages\\keras\\engine\\training.py\", line 2155, in step_function\n      outputs = model.distribute_strategy.run(run_step, args=(data,))\n    File \"C:\\Users\\mahad\\anaconda3\\envs\\DATAML200\\lib\\site-packages\\keras\\engine\\training.py\", line 2143, in run_step\n      outputs = model.predict_step(data)\n    File \"C:\\Users\\mahad\\anaconda3\\envs\\DATAML200\\lib\\site-packages\\keras\\engine\\training.py\", line 2111, in predict_step\n      return self(x, training=False)\n    File \"C:\\Users\\mahad\\anaconda3\\envs\\DATAML200\\lib\\site-packages\\keras\\utils\\traceback_utils.py\", line 65, in error_handler\n      return fn(*args, **kwargs)\n    File \"C:\\Users\\mahad\\anaconda3\\envs\\DATAML200\\lib\\site-packages\\keras\\engine\\training.py\", line 558, in __call__\n      return super().__call__(*args, **kwargs)\n    File \"C:\\Users\\mahad\\anaconda3\\envs\\DATAML200\\lib\\site-packages\\keras\\utils\\traceback_utils.py\", line 65, in error_handler\n      return fn(*args, **kwargs)\n    File \"C:\\Users\\mahad\\anaconda3\\envs\\DATAML200\\lib\\site-packages\\keras\\engine\\base_layer.py\", line 1145, in __call__\n      outputs = call_fn(inputs, *args, **kwargs)\n    File \"C:\\Users\\mahad\\anaconda3\\envs\\DATAML200\\lib\\site-packages\\keras\\utils\\traceback_utils.py\", line 96, in error_handler\n      return fn(*args, **kwargs)\n    File \"C:\\Users\\mahad\\anaconda3\\envs\\DATAML200\\lib\\site-packages\\keras\\engine\\sequential.py\", line 412, in call\n      return super().call(inputs, training=training, mask=mask)\n    File \"C:\\Users\\mahad\\anaconda3\\envs\\DATAML200\\lib\\site-packages\\keras\\engine\\functional.py\", line 512, in call\n      return self._run_internal_graph(inputs, training=training, mask=mask)\n    File \"C:\\Users\\mahad\\anaconda3\\envs\\DATAML200\\lib\\site-packages\\keras\\engine\\functional.py\", line 669, in _run_internal_graph\n      outputs = node.layer(*args, **kwargs)\n    File \"C:\\Users\\mahad\\anaconda3\\envs\\DATAML200\\lib\\site-packages\\keras\\utils\\traceback_utils.py\", line 65, in error_handler\n      return fn(*args, **kwargs)\n    File \"C:\\Users\\mahad\\anaconda3\\envs\\DATAML200\\lib\\site-packages\\keras\\engine\\base_layer.py\", line 1145, in __call__\n      outputs = call_fn(inputs, *args, **kwargs)\n    File \"C:\\Users\\mahad\\anaconda3\\envs\\DATAML200\\lib\\site-packages\\keras\\utils\\traceback_utils.py\", line 96, in error_handler\n      return fn(*args, **kwargs)\n    File \"C:\\Users\\mahad\\anaconda3\\envs\\DATAML200\\lib\\site-packages\\keras\\layers\\core\\dense.py\", line 241, in call\n      outputs = tf.matmul(a=inputs, b=self.kernel)\nNode: 'sequential_6/dense_18/MatMul'\nIn[0] ndims must be >= 2: 1\n\t [[{{node sequential_6/dense_18/MatMul}}]] [Op:__inference_predict_function_1477162]"
     ]
    }
   ],
   "source": [
    "new_state = np.array(env.reset())\n",
    "\n",
    "#print(new_state)\n",
    "done = False\n",
    "while not done:\n",
    "    new_state = tf.one_hot(new_state,500)\n",
    "    action = model.predict(new_state)\n",
    "    print(action)\n",
    "    new_state, reward, done, _ = env.step(action)\n",
    "    print(new_state)\n",
    "    print(reward)\n",
    "    print(done)\n",
    "    env.render()\n",
    "    time.sleep(0.1)\n",
    "env.close()"
   ]
  },
  {
   "cell_type": "code",
   "execution_count": 116,
   "id": "97c426d7",
   "metadata": {
    "scrolled": true
   },
   "outputs": [
    {
     "name": "stdout",
     "output_type": "stream",
     "text": [
      "4/4 [==============================] - 0s 6ms/step - loss: 0.0000e+00 - accuracy: 1.0000\n"
     ]
    }
   ],
   "source": [
    "result = model.evaluate(x[:100],y[:100])"
   ]
  },
  {
   "cell_type": "code",
   "execution_count": 135,
   "id": "99029537",
   "metadata": {},
   "outputs": [
    {
     "name": "stdout",
     "output_type": "stream",
     "text": [
      "1/1 [==============================] - 0s 26ms/step\n"
     ]
    },
    {
     "data": {
      "text/plain": [
       "array([[-366.41302, -394.52582, -391.78897, -396.70404, -386.7028 ,\n",
       "        -396.9318 ]], dtype=float32)"
      ]
     },
     "execution_count": 135,
     "metadata": {},
     "output_type": "execute_result"
    }
   ],
   "source": [
    "model.predict(x[99:100])"
   ]
  },
  {
   "cell_type": "code",
   "execution_count": 136,
   "id": "6ec44f49",
   "metadata": {},
   "outputs": [
    {
     "name": "stdout",
     "output_type": "stream",
     "text": [
      "1/1 [==============================] - 0s 26ms/step\n"
     ]
    },
    {
     "data": {
      "text/plain": [
       "1"
      ]
     },
     "execution_count": 136,
     "metadata": {},
     "output_type": "execute_result"
    }
   ],
   "source": [
    "np.argmax(model.predict(x[99:100]))+1"
   ]
  },
  {
   "cell_type": "code",
   "execution_count": 137,
   "id": "fe23467d",
   "metadata": {},
   "outputs": [
    {
     "data": {
      "text/plain": [
       "array([[1., 0., 0., 0., 0., 0., 0., 0., 0., 0., 0., 0., 0., 0., 0., 0.,\n",
       "        0., 0., 0., 0., 0., 0., 0., 0., 0., 0., 0., 0., 0., 0., 0., 0.,\n",
       "        0., 0., 0., 0., 0., 0., 0., 0., 0., 0., 0., 0., 0., 0., 0., 0.,\n",
       "        0., 0., 0., 0., 0., 0., 0., 0., 0., 0., 0., 0., 0., 0., 0., 0.,\n",
       "        0., 0., 0., 0., 0., 0., 0., 0., 0., 0., 0., 0., 0., 0., 0., 0.,\n",
       "        0., 0., 0., 0., 0., 0., 0., 0., 0., 0., 0., 0., 0., 0., 0., 0.,\n",
       "        0., 0., 0., 0., 0., 0., 0., 0., 0., 0., 0., 0., 0., 0., 0., 0.,\n",
       "        0., 0., 0., 0., 0., 0., 0., 0., 0., 0., 0., 0., 0., 0., 0., 0.,\n",
       "        0., 0., 0., 0., 0., 0., 0., 0., 0., 0., 0., 0., 0., 0., 0., 0.,\n",
       "        0., 0., 0., 0., 0., 0., 0., 0., 0., 0., 0., 0., 0., 0., 0., 0.,\n",
       "        0., 0., 0., 0., 0., 0., 0., 0., 0., 0., 0., 0., 0., 0., 0., 0.,\n",
       "        0., 0., 0., 0., 0., 0., 0., 0., 0., 0., 0., 0., 0., 0., 0., 0.,\n",
       "        0., 0., 0., 0., 0., 0., 0., 0., 0., 0., 0., 0., 0., 0., 0., 0.,\n",
       "        0., 0., 0., 0., 0., 0., 0., 0., 0., 0., 0., 0., 0., 0., 0., 0.,\n",
       "        0., 0., 0., 0., 0., 0., 0., 0., 0., 0., 0., 0., 0., 0., 0., 0.,\n",
       "        0., 0., 0., 0., 0., 0., 0., 0., 0., 0., 0., 0., 0., 0., 0., 0.,\n",
       "        0., 0., 0., 0., 0., 0., 0., 0., 0., 0., 0., 0., 0., 0., 0., 0.,\n",
       "        0., 0., 0., 0., 0., 0., 0., 0., 0., 0., 0., 0., 0., 0., 0., 0.,\n",
       "        0., 0., 0., 0., 0., 0., 0., 0., 0., 0., 0., 0., 0., 0., 0., 0.,\n",
       "        0., 0., 0., 0., 0., 0., 0., 0., 0., 0., 0., 0., 0., 0., 0., 0.,\n",
       "        0., 0., 0., 0., 0., 0., 0., 0., 0., 0., 0., 0., 0., 0., 0., 0.,\n",
       "        0., 0., 0., 0., 0., 0., 0., 0., 0., 0., 0., 0., 0., 0., 0., 0.,\n",
       "        0., 0., 0., 0., 0., 0., 0., 0., 0., 0., 0., 0., 0., 0., 0., 0.,\n",
       "        0., 0., 0., 0., 0., 0., 0., 0., 0., 0., 0., 0., 0., 0., 0., 0.,\n",
       "        0., 0., 0., 0., 0., 0., 0., 0., 0., 0., 0., 0., 0., 0., 0., 0.,\n",
       "        0., 0., 0., 0., 0., 0., 0., 0., 0., 0., 0., 0., 0., 0., 0., 0.,\n",
       "        0., 0., 0., 0., 0., 0., 0., 0., 0., 0., 0., 0., 0., 0., 0., 0.,\n",
       "        0., 0., 0., 0., 0., 0., 0., 0., 0., 0., 0., 0., 0., 0., 0., 0.,\n",
       "        0., 0., 0., 0., 0., 0., 0., 0., 0., 0., 0., 0., 0., 0., 0., 0.,\n",
       "        0., 0., 0., 0., 0., 0., 0., 0., 0., 0., 0., 0., 0., 0., 0., 0.,\n",
       "        0., 0., 0., 0., 0., 0., 0., 0., 0., 0., 0., 0., 0., 0., 0., 0.,\n",
       "        0., 0., 0., 0.]])"
      ]
     },
     "execution_count": 137,
     "metadata": {},
     "output_type": "execute_result"
    }
   ],
   "source": [
    "x[0:1]"
   ]
  },
  {
   "cell_type": "code",
   "execution_count": null,
   "id": "3f78cbac",
   "metadata": {},
   "outputs": [],
   "source": []
  }
 ],
 "metadata": {
  "kernelspec": {
   "display_name": "DATAML200",
   "language": "python",
   "name": "dataml200"
  },
  "language_info": {
   "codemirror_mode": {
    "name": "ipython",
    "version": 3
   },
   "file_extension": ".py",
   "mimetype": "text/x-python",
   "name": "python",
   "nbconvert_exporter": "python",
   "pygments_lexer": "ipython3",
   "version": "3.9.13"
  }
 },
 "nbformat": 4,
 "nbformat_minor": 5
}
