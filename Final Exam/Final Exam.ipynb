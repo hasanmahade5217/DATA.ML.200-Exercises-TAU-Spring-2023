{
 "cells": [
  {
   "cell_type": "code",
   "execution_count": 1,
   "id": "e81b8b4e",
   "metadata": {},
   "outputs": [
    {
     "name": "stdout",
     "output_type": "stream",
     "text": [
      "Mean squared error (baseline): 75.05\n"
     ]
    }
   ],
   "source": [
    "# importing necessry libraries\n",
    "import numpy as np\n",
    "import matplotlib.pyplot as plt\n",
    "\n",
    "# load data\n",
    "X_train = np.loadtxt( 'E:\\OneDrive - TUNI.fi\\Tampere University (MSc in CS-DS)\\Year 2\\Period 4\\DATA.ML.200 Pattern Recognition and Machine Learning\\Final Exam\\X_train.dat' )\n",
    "X_test = np.loadtxt('E:\\OneDrive - TUNI.fi\\Tampere University (MSc in CS-DS)\\Year 2\\Period 4\\DATA.ML.200 Pattern Recognition and Machine Learning\\Final Exam\\X_test.dat')\n",
    "y_train = np.loadtxt( 'E:\\OneDrive - TUNI.fi\\Tampere University (MSc in CS-DS)\\Year 2\\Period 4\\DATA.ML.200 Pattern Recognition and Machine Learning\\Final Exam\\y_train.dat' )\n",
    "y_test = np.loadtxt('E:\\OneDrive - TUNI.fi\\Tampere University (MSc in CS-DS)\\Year 2\\Period 4\\DATA.ML.200 Pattern Recognition and Machine Learning\\Final Exam\\y_test.dat')\n",
    "\n",
    "# Calculate the mean of the target variable (y)\n",
    "y_pred = np.mean(y_train)\n",
    "\n",
    "# Create an array of the same length as the test data, filled with the mean value\n",
    "y_pred_baseline = np.full_like(y_test, y_pred)\n",
    "\n",
    "# Calculate the mean squared error between the baseline and the true target values\n",
    "mse_baseline = np.mean((y_pred_baseline - y_test) ** 2)\n",
    "\n",
    "# Print the mean squared error of the baseline prediction\n",
    "print(\"Mean squared error (baseline): {:.2f}\".format(mse_baseline))\n"
   ]
  },
  {
   "cell_type": "code",
   "execution_count": 3,
   "id": "c26ebfe1",
   "metadata": {},
   "outputs": [],
   "source": [
    "import numpy as np\n",
    "import pandas as pd\n",
    "import matplotlib.pyplot as plt\n",
    "from sklearn.ensemble import RandomForestRegressor\n",
    "from sklearn.metrics import mean_absolute_error\n",
    "\n",
    "# load data\n",
    "X_train = np.loadtxt( 'E:\\OneDrive - TUNI.fi\\Tampere University (MSc in CS-DS)\\Year 2\\Period 4\\DATA.ML.200 Pattern Recognition and Machine Learning\\Final Exam\\X_train.dat' )\n",
    "X_test = np.loadtxt('E:\\OneDrive - TUNI.fi\\Tampere University (MSc in CS-DS)\\Year 2\\Period 4\\DATA.ML.200 Pattern Recognition and Machine Learning\\Final Exam\\X_test.dat')\n",
    "y_train = np.loadtxt( 'E:\\OneDrive - TUNI.fi\\Tampere University (MSc in CS-DS)\\Year 2\\Period 4\\DATA.ML.200 Pattern Recognition and Machine Learning\\Final Exam\\y_train.dat' )\n",
    "y_test = np.loadtxt('E:\\OneDrive - TUNI.fi\\Tampere University (MSc in CS-DS)\\Year 2\\Period 4\\DATA.ML.200 Pattern Recognition and Machine Learning\\Final Exam\\y_test.dat')\n"
   ]
  },
  {
   "cell_type": "code",
   "execution_count": 4,
   "id": "453f83f9",
   "metadata": {},
   "outputs": [],
   "source": [
    "# Initialize the Random Forest Regressor model\n",
    "rf_model = RandomForestRegressor()"
   ]
  },
  {
   "cell_type": "code",
   "execution_count": 6,
   "id": "38b51c9f",
   "metadata": {
    "scrolled": true
   },
   "outputs": [
    {
     "data": {
      "text/plain": [
       "RandomForestRegressor()"
      ]
     },
     "execution_count": 6,
     "metadata": {},
     "output_type": "execute_result"
    }
   ],
   "source": [
    "# Fit the model to the training data\n",
    "rf_model.fit(X_train, y_train)"
   ]
  },
  {
   "cell_type": "code",
   "execution_count": 7,
   "id": "d6d73050",
   "metadata": {},
   "outputs": [],
   "source": [
    "# Make predictions on the test data\n",
    "predictions = rf_model.predict(X_test)"
   ]
  },
  {
   "cell_type": "code",
   "execution_count": 9,
   "id": "f21b8209",
   "metadata": {},
   "outputs": [
    {
     "name": "stdout",
     "output_type": "stream",
     "text": [
      "Mean Absolute Error:  2.0911176470588235\n"
     ]
    }
   ],
   "source": [
    "# Calculate the mean absolute error of the predictions\n",
    "mae = mean_absolute_error(y_test, predictions)\n",
    "\n",
    "# Print the MAE of the predictions\n",
    "print(\"Mean Absolute Error: \", mae)"
   ]
  },
  {
   "cell_type": "code",
   "execution_count": 11,
   "id": "8f2eaccf",
   "metadata": {},
   "outputs": [
    {
     "name": "stdout",
     "output_type": "stream",
     "text": [
      "Mean Absolute Error:  6.255843525529023\n"
     ]
    }
   ],
   "source": [
    "mae = mean_absolute_error(y_test, y_pred_baseline)\n",
    "print(\"Mean Absolute Error: \", mae)"
   ]
  },
  {
   "cell_type": "code",
   "execution_count": 12,
   "id": "a5f2a0ce",
   "metadata": {},
   "outputs": [
    {
     "name": "stdout",
     "output_type": "stream",
     "text": [
      "RF : Mean Absolute Error:  2.1578137254901963\n",
      "Baseline : Mean Absolute Error:  6.255843525529023\n"
     ]
    }
   ],
   "source": [
    "import numpy as np\n",
    "from sklearn.ensemble import RandomForestRegressor\n",
    "from sklearn.metrics import mean_absolute_error\n",
    "\n",
    "# load data\n",
    "X_train = np.loadtxt( 'E:\\OneDrive - TUNI.fi\\Tampere University (MSc in CS-DS)\\Year 2\\Period 4\\DATA.ML.200 Pattern Recognition and Machine Learning\\Final Exam\\X_train.dat' )\n",
    "X_test = np.loadtxt('E:\\OneDrive - TUNI.fi\\Tampere University (MSc in CS-DS)\\Year 2\\Period 4\\DATA.ML.200 Pattern Recognition and Machine Learning\\Final Exam\\X_test.dat')\n",
    "y_train = np.loadtxt( 'E:\\OneDrive - TUNI.fi\\Tampere University (MSc in CS-DS)\\Year 2\\Period 4\\DATA.ML.200 Pattern Recognition and Machine Learning\\Final Exam\\y_train.dat')\n",
    "y_test = np.loadtxt('E:\\OneDrive - TUNI.fi\\Tampere University (MSc in CS-DS)\\Year 2\\Period 4\\DATA.ML.200 Pattern Recognition and Machine Learning\\Final Exam\\y_test.dat')\n",
    "\n",
    "# Baseline:  \n",
    "# Calculate the mean of the target variable (y)\n",
    "y_pred = np.mean(y_train)\n",
    "\n",
    "# Create an array of the same length as the test data, filled with the mean value\n",
    "y_pred_baseline = np.full_like(y_test, y_pred)\n",
    "\n",
    "# Baseline end...\n",
    "\n",
    "\n",
    "# Initialize the Random Forest Regressor model\n",
    "rf_model = RandomForestRegressor()\n",
    "\n",
    "# Fit the model to the training data\n",
    "rf_model.fit(X_train, y_train)\n",
    "\n",
    "# Make predictions on the test data\n",
    "predictions = rf_model.predict(X_test)\n",
    "\n",
    "# Calculate the mean absolute error of the predictions\n",
    "mae_rf = mean_absolute_error(y_test, predictions)\n",
    "\n",
    "# Print the MAE of the predictions\n",
    "print(\"RF : Mean Absolute Error: \", mae_rf)\n",
    "\n",
    "\n",
    "# Calculate the mean absolute error of the baseline predictions\n",
    "mae_bl = mean_absolute_error(y_test, y_pred_baseline)\n",
    "\n",
    "# Print the MAE of the predictions\n",
    "print(\"Baseline : Mean Absolute Error: \", mae_bl)"
   ]
  },
  {
   "cell_type": "code",
   "execution_count": 22,
   "id": "42efeadf",
   "metadata": {
    "scrolled": true
   },
   "outputs": [
    {
     "name": "stdout",
     "output_type": "stream",
     "text": [
      "3.86780152173758\n",
      "3.220771033059464\n",
      "2.6100256486668227\n",
      "2.3420861547079213\n",
      "2.2538442414275432\n",
      "2.1402774806009277\n",
      "2.0880242995420293\n",
      "2.093687354740015\n",
      "2.100959548287129\n",
      "2.084259480205176\n",
      "2.091381595362485\n",
      "2.096784598069013\n"
     ]
    }
   ],
   "source": [
    "depths = [1,2,3,4,5,6,7,8,9,10,11,12]\n",
    "mae = []\n",
    "for i in range(len(depths)):\n",
    "    # Initialize the Random Forest Regressor model\n",
    "    rf_model = RandomForestRegressor(max_depth=i+1)\n",
    "\n",
    "    # Fit the model to the training data\n",
    "    rf_model.fit(X_train, y_train)\n",
    "\n",
    "    # Make predictions on the test data\n",
    "    predictions = rf_model.predict(X_test)\n",
    "\n",
    "    # Calculate the mean absolute error of the predictions\n",
    "    mae_rf = mean_absolute_error(y_test, predictions)\n",
    "    mae.append(mae_rf)\n",
    "    print(mae_rf)\n",
    "\n",
    "    "
   ]
  },
  {
   "cell_type": "code",
   "execution_count": 23,
   "id": "eb54c46e",
   "metadata": {},
   "outputs": [
    {
     "data": {
      "text/plain": [
       "0.5422823415779774"
      ]
     },
     "execution_count": 23,
     "metadata": {},
     "output_type": "execute_result"
    }
   ],
   "source": [
    "#mae = np.array(mae)\n",
    "std = np.std(mae)\n",
    "std"
   ]
  },
  {
   "cell_type": "code",
   "execution_count": 27,
   "id": "8c2e58f1",
   "metadata": {},
   "outputs": [
    {
     "data": {
      "text/plain": [
       "<matplotlib.collections.PolyCollection at 0x17c7811b8e0>"
      ]
     },
     "execution_count": 27,
     "metadata": {},
     "output_type": "execute_result"
    },
    {
     "data": {
      "image/png": "[encoded data removed]",
      "text/plain": [
       "<Figure size 640x480 with 1 Axes>"
      ]
     },
     "metadata": {},
     "output_type": "display_data"
    }
   ],
   "source": [
    "plt.plot(depths,mae)\n",
    "plt.xlabel(\"Max Depths\")\n",
    "plt.ylabel(\"MAE\")\n",
    "plt.fill_between(depths, mae-std,mae+std,\n",
    "                alpha=1, edgecolor='#3F7F4C', facecolor='#7EFF99', linewidth=0)"
   ]
  },
  {
   "cell_type": "code",
   "execution_count": null,
   "id": "932b5e1a",
   "metadata": {},
   "outputs": [],
   "source": []
  }
 ],
 "metadata": {
  "kernelspec": {
   "display_name": "DATAML200",
   "language": "python",
   "name": "dataml200"
  },
  "language_info": {
   "codemirror_mode": {
    "name": "ipython",
    "version": 3
   },
   "file_extension": ".py",
   "mimetype": "text/x-python",
   "name": "python",
   "nbconvert_exporter": "python",
   "pygments_lexer": "ipython3",
   "version": "3.9.13"
  }
 },
 "nbformat": 4,
 "nbformat_minor": 5
}
